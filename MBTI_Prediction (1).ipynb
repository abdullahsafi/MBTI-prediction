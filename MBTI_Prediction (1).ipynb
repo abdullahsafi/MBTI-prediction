{
  "cells": [
    {
      "cell_type": "markdown",
      "metadata": {
        "id": "MUpALSBhkpDV"
      },
      "source": [
        "# MBTI Prediction"
      ]
    },
    {
      "cell_type": "markdown",
      "metadata": {
        "id": "A7v4GVxo4Dom"
      },
      "source": [
        "# 1 - Data Preprocessing"
      ]
    },
    {
      "cell_type": "markdown",
      "metadata": {
        "id": "HftyG77k47Y3"
      },
      "source": [
        "## 1.0. Data Collection"
      ]
    },
    {
      "cell_type": "code",
      "execution_count": null,
      "metadata": {
        "colab": {
          "base_uri": "https://localhost:8080/"
        },
        "id": "qOlvkPPpiTFj",
        "outputId": "60416ad1-a442-4617-9464-67f624ca144d"
      },
      "outputs": [
        {
          "output_type": "stream",
          "name": "stdout",
          "text": [
            "Mounted at /content/drive\n",
            "Looking in indexes: https://pypi.org/simple, https://us-python.pkg.dev/colab-wheels/public/simple/\n",
            "Requirement already satisfied: kaggle in /usr/local/lib/python3.7/dist-packages (1.5.12)\n",
            "Requirement already satisfied: tqdm in /usr/local/lib/python3.7/dist-packages (from kaggle) (4.64.0)\n",
            "Requirement already satisfied: python-slugify in /usr/local/lib/python3.7/dist-packages (from kaggle) (6.1.2)\n",
            "Requirement already satisfied: certifi in /usr/local/lib/python3.7/dist-packages (from kaggle) (2022.6.15)\n",
            "Requirement already satisfied: python-dateutil in /usr/local/lib/python3.7/dist-packages (from kaggle) (2.8.2)\n",
            "Requirement already satisfied: urllib3 in /usr/local/lib/python3.7/dist-packages (from kaggle) (1.24.3)\n",
            "Requirement already satisfied: requests in /usr/local/lib/python3.7/dist-packages (from kaggle) (2.23.0)\n",
            "Requirement already satisfied: six>=1.10 in /usr/local/lib/python3.7/dist-packages (from kaggle) (1.15.0)\n",
            "Requirement already satisfied: text-unidecode>=1.3 in /usr/local/lib/python3.7/dist-packages (from python-slugify->kaggle) (1.3)\n",
            "Requirement already satisfied: chardet<4,>=3.0.2 in /usr/local/lib/python3.7/dist-packages (from requests->kaggle) (3.0.4)\n",
            "Requirement already satisfied: idna<3,>=2.5 in /usr/local/lib/python3.7/dist-packages (from requests->kaggle) (2.10)\n",
            "Downloading mbti-type.zip to /content\n",
            " 37% 9.00M/24.4M [00:00<00:00, 47.4MB/s]\n",
            "100% 24.4M/24.4M [00:00<00:00, 104MB/s] \n",
            "Archive:  mbti-type.zip\n",
            "  inflating: mbti_1.csv              \n"
          ]
        }
      ],
      "source": [
        "# First upload kaggle.json from kaggle account in your to MyDrive (Google Drive)\n",
        "from google.colab import drive\n",
        "drive.mount('/content/drive')\n",
        "! pip install kaggle\n",
        "! mkdir ~/.kaggle\n",
        "! cp /content/drive/MyDrive/kaggle.json ~/.kaggle/kaggle.json\n",
        "! kaggle datasets download -d datasnaek/mbti-type\n",
        "! unzip mbti-type.zip"
      ]
    },
    {
      "cell_type": "code",
      "execution_count": null,
      "metadata": {
        "colab": {
          "base_uri": "https://localhost:8080/"
        },
        "id": "Za7sPUd6ljnL",
        "outputId": "49357f71-e8ba-42f4-cb89-5db118b478b5"
      },
      "outputs": [
        {
          "output_type": "stream",
          "name": "stdout",
          "text": [
            "------------------------------------\n",
            "Size of training dataset: 7807\n",
            "Size of testing dataset: 868\n",
            "------------------------------------\n",
            "------------------------------------\n",
            "Sample Data\n",
            "LABEL: INTP\n",
            "SENTENCE: 'Piano has joined my list too.|||When you are asked to add smileys into your text messages(when you reply to one (I do not usually send text messages)).. :laughing:|||My Desktop:   ScreenShot 1:  35109 ScreenShot 2: 35110|||One of my friends had told me, 'you can be a really good actor'.  I think an INTPs life is like a musical performance, you have to sit through the long overtures, to get to the substantial/quality...|||Anyone wish they weren't INTP? Definitely not.  But, sometimes I do wish I can get along very nicely with somebody other than my computer. By that, I mean a girl. But, that phase passes off...|||Can you say same things for yourself? An absolute yes.  How you deal with it? tried doing what they wanted me to do for sometime. It was too draining. Now, I do not even bother.|||In my experience of INFJs, based on their J, I am usually terrified by them. Because, most of the INFJs I have met have their J based on their Fe (i.e. in my mind, bat crap crazy).   From your...|||O_o why will I want to embrace some one!?|||How?  10 characs.|||Kind off.. But not exactly. I still get this told by by mom when I visit her. Go out.. talk to people, keep them in contact etc.|||And then you have have to move swiftly like a rabbit to make it it to one.|||The huge misconception : Extroversion is better.    As :    prevails everywhere.|||Tats really bad.  Asking us to be an extrovert is too much drain of energy.  I definitely cannot handle it.  Schools are a pain in the ass when such aspects get involved. Its definitely funny (I...|||Lol. That should be frustrating.    Not COOL. Definitely not cool.    LOL.|||Looking at the poll its like people are saying:  the 0%s  1] I do not do Sports & Recreation. (obvious) 2] If you want some Consulting & Strategy.. I recommend you to change your whole model....|||LOL  ten characters|||LOL. I think its true.|||I think you described it very well. Gave me a bit of insight. Thank You. :)|||lol   ten characters.|||LOL. There is a free hugs campaign.|||This was funny. Same here WRT still haven't gotten the hang of hugs.  Haven't gotten the hang of people touching me, actually.|||lol   ten characters.|||I have done the observation. Only classification i could find was   A small duration hug:  -> Formal hug (when people met after a long time),  -> People hugging everyone(acquaintances, friends)...|||I have never had the urge to give a hug nor receive one (may be, because of, I am an INTP, and Mildly autistic.). I have received a hug thrice. All of them from a girl (not girlfriends. never had...|||I welcome you to make one.  If it is better than the above, I will thank you.|||I agree.     The Official Movie Version of: FLATLAND|||:D I saw the movie though. :D|||When this happens to you:  friend: Do  you know the no and me neither joke? me: I might. friend: Do  you know the no and me neither joke? yes or no? me: Tats what I just told you. I don't know....|||Do people with Aspergers Syndrome learn better with question answer pattern based learning?|||Sadly this works only when the person on the other side is smart as well :(.|||Okay, I dont have a girlfriend. But, I have done this with others! Usually when they start whining/ask me what am I doing wrong! (although this does not happen very often)  I don't think I am...|||Nice.   The comment came out of a friend jokingly, since I haven't had a single girlfriend. I had show interest in only one girl. Else, I would be in my own world(according to them). Neither do I...|||Had already done that. But, they do not keep their opinion to themselves. My comment (absurd according to them) shut them up.|||When asked about your straightness you reply with  My straightness is as constant as the distance between a pair of parallel lines.|||Happened many a times!|||Ha Ha.....|||When you can feel null and absolute...|||Hilarious! ______________________________|||Agreed, I do the same too.. but at times, they are discussing for about say 15 mins.. So this is where I gather my facts.. If I am even remotely unsure of.. I consider not to pitch in anything.|||when  you think the world you are living in is a Dystopia.|||I got told this for my  1] straight forwardness 2] When I told them I do not follow any religion. (here (India) people are very very religious). 3] when I give them answers to topics I know...|||Yes, and its mine.|||Learning Russian.|||I am learning from this book: 'Russian a self teaching guide' by Kathryn Szczepanska A very detailed guide!  I would say, to read from such a book.  But, i do not know which books are available...|||You know you are an INTP when you learn languages just for the fun of it.  Currently learning Russian.|||20137  ...................|||agreed. ....|||Definitely!|||sadly it ll help put u into a good college.. and tats it!|||faces. cannot remember the darned names..'\n",
            "------------------------------------\n"
          ]
        }
      ],
      "source": [
        "import pandas as pd\n",
        "from sklearn.model_selection import train_test_split\n",
        "\n",
        "# Training testing 90-10 split\n",
        "data = pd.read_csv(\"mbti_1.csv\")\n",
        "training_data, testing_data = train_test_split(data, test_size=0.1, shuffle=False)\n",
        "\n",
        "print(\"------------------------------------\")\n",
        "print(\"Size of training dataset: {0}\".format(len(training_data)))\n",
        "print(\"Size of testing dataset: {0}\".format(len(testing_data)))\n",
        "print(\"------------------------------------\")\n",
        "\n",
        "print(\"------------------------------------\")\n",
        "print(\"Sample Data\")\n",
        "print(\"LABEL: {0}\".format(training_data.iloc[-1,0]))\n",
        "print(\"SENTENCE: {0}\".format(training_data.iloc[-1,1]))\n",
        "print(\"------------------------------------\")"
      ]
    },
    {
      "cell_type": "code",
      "execution_count": null,
      "metadata": {
        "colab": {
          "base_uri": "https://localhost:8080/",
          "height": 206
        },
        "id": "Ok267q1CxO8x",
        "outputId": "af2f79fd-2f7d-4d11-a127-c81ff41deba0"
      },
      "outputs": [
        {
          "data": {
            "text/html": [
              "\n",
              "  <div id=\"df-1ac193b8-dba8-4b9b-9c1a-63d28d80005a\">\n",
              "    <div class=\"colab-df-container\">\n",
              "      <div>\n",
              "<style scoped>\n",
              "    .dataframe tbody tr th:only-of-type {\n",
              "        vertical-align: middle;\n",
              "    }\n",
              "\n",
              "    .dataframe tbody tr th {\n",
              "        vertical-align: top;\n",
              "    }\n",
              "\n",
              "    .dataframe thead th {\n",
              "        text-align: right;\n",
              "    }\n",
              "</style>\n",
              "<table border=\"1\" class=\"dataframe\">\n",
              "  <thead>\n",
              "    <tr style=\"text-align: right;\">\n",
              "      <th></th>\n",
              "      <th>type</th>\n",
              "      <th>posts</th>\n",
              "    </tr>\n",
              "  </thead>\n",
              "  <tbody>\n",
              "    <tr>\n",
              "      <th>0</th>\n",
              "      <td>INFJ</td>\n",
              "      <td>'http://www.youtube.com/watch?v=qsXHcwe3krw|||...</td>\n",
              "    </tr>\n",
              "    <tr>\n",
              "      <th>1</th>\n",
              "      <td>ENTP</td>\n",
              "      <td>'I'm finding the lack of me in these posts ver...</td>\n",
              "    </tr>\n",
              "    <tr>\n",
              "      <th>2</th>\n",
              "      <td>INTP</td>\n",
              "      <td>'Good one  _____   https://www.youtube.com/wat...</td>\n",
              "    </tr>\n",
              "    <tr>\n",
              "      <th>3</th>\n",
              "      <td>INTJ</td>\n",
              "      <td>'Dear INTP,   I enjoyed our conversation the o...</td>\n",
              "    </tr>\n",
              "    <tr>\n",
              "      <th>4</th>\n",
              "      <td>ENTJ</td>\n",
              "      <td>'You're fired.|||That's another silly misconce...</td>\n",
              "    </tr>\n",
              "  </tbody>\n",
              "</table>\n",
              "</div>\n",
              "      <button class=\"colab-df-convert\" onclick=\"convertToInteractive('df-1ac193b8-dba8-4b9b-9c1a-63d28d80005a')\"\n",
              "              title=\"Convert this dataframe to an interactive table.\"\n",
              "              style=\"display:none;\">\n",
              "        \n",
              "  <svg xmlns=\"http://www.w3.org/2000/svg\" height=\"24px\"viewBox=\"0 0 24 24\"\n",
              "       width=\"24px\">\n",
              "    <path d=\"M0 0h24v24H0V0z\" fill=\"none\"/>\n",
              "    <path d=\"M18.56 5.44l.94 2.06.94-2.06 2.06-.94-2.06-.94-.94-2.06-.94 2.06-2.06.94zm-11 1L8.5 8.5l.94-2.06 2.06-.94-2.06-.94L8.5 2.5l-.94 2.06-2.06.94zm10 10l.94 2.06.94-2.06 2.06-.94-2.06-.94-.94-2.06-.94 2.06-2.06.94z\"/><path d=\"M17.41 7.96l-1.37-1.37c-.4-.4-.92-.59-1.43-.59-.52 0-1.04.2-1.43.59L10.3 9.45l-7.72 7.72c-.78.78-.78 2.05 0 2.83L4 21.41c.39.39.9.59 1.41.59.51 0 1.02-.2 1.41-.59l7.78-7.78 2.81-2.81c.8-.78.8-2.07 0-2.86zM5.41 20L4 18.59l7.72-7.72 1.47 1.35L5.41 20z\"/>\n",
              "  </svg>\n",
              "      </button>\n",
              "      \n",
              "  <style>\n",
              "    .colab-df-container {\n",
              "      display:flex;\n",
              "      flex-wrap:wrap;\n",
              "      gap: 12px;\n",
              "    }\n",
              "\n",
              "    .colab-df-convert {\n",
              "      background-color: #E8F0FE;\n",
              "      border: none;\n",
              "      border-radius: 50%;\n",
              "      cursor: pointer;\n",
              "      display: none;\n",
              "      fill: #1967D2;\n",
              "      height: 32px;\n",
              "      padding: 0 0 0 0;\n",
              "      width: 32px;\n",
              "    }\n",
              "\n",
              "    .colab-df-convert:hover {\n",
              "      background-color: #E2EBFA;\n",
              "      box-shadow: 0px 1px 2px rgba(60, 64, 67, 0.3), 0px 1px 3px 1px rgba(60, 64, 67, 0.15);\n",
              "      fill: #174EA6;\n",
              "    }\n",
              "\n",
              "    [theme=dark] .colab-df-convert {\n",
              "      background-color: #3B4455;\n",
              "      fill: #D2E3FC;\n",
              "    }\n",
              "\n",
              "    [theme=dark] .colab-df-convert:hover {\n",
              "      background-color: #434B5C;\n",
              "      box-shadow: 0px 1px 3px 1px rgba(0, 0, 0, 0.15);\n",
              "      filter: drop-shadow(0px 1px 2px rgba(0, 0, 0, 0.3));\n",
              "      fill: #FFFFFF;\n",
              "    }\n",
              "  </style>\n",
              "\n",
              "      <script>\n",
              "        const buttonEl =\n",
              "          document.querySelector('#df-1ac193b8-dba8-4b9b-9c1a-63d28d80005a button.colab-df-convert');\n",
              "        buttonEl.style.display =\n",
              "          google.colab.kernel.accessAllowed ? 'block' : 'none';\n",
              "\n",
              "        async function convertToInteractive(key) {\n",
              "          const element = document.querySelector('#df-1ac193b8-dba8-4b9b-9c1a-63d28d80005a');\n",
              "          const dataTable =\n",
              "            await google.colab.kernel.invokeFunction('convertToInteractive',\n",
              "                                                     [key], {});\n",
              "          if (!dataTable) return;\n",
              "\n",
              "          const docLinkHtml = 'Like what you see? Visit the ' +\n",
              "            '<a target=\"_blank\" href=https://colab.research.google.com/notebooks/data_table.ipynb>data table notebook</a>'\n",
              "            + ' to learn more about interactive tables.';\n",
              "          element.innerHTML = '';\n",
              "          dataTable['output_type'] = 'display_data';\n",
              "          await google.colab.output.renderOutput(dataTable, element);\n",
              "          const docLink = document.createElement('div');\n",
              "          docLink.innerHTML = docLinkHtml;\n",
              "          element.appendChild(docLink);\n",
              "        }\n",
              "      </script>\n",
              "    </div>\n",
              "  </div>\n",
              "  "
            ],
            "text/plain": [
              "   type                                              posts\n",
              "0  INFJ  'http://www.youtube.com/watch?v=qsXHcwe3krw|||...\n",
              "1  ENTP  'I'm finding the lack of me in these posts ver...\n",
              "2  INTP  'Good one  _____   https://www.youtube.com/wat...\n",
              "3  INTJ  'Dear INTP,   I enjoyed our conversation the o...\n",
              "4  ENTJ  'You're fired.|||That's another silly misconce..."
            ]
          },
          "execution_count": 3,
          "metadata": {},
          "output_type": "execute_result"
        }
      ],
      "source": [
        "training_data.head()"
      ]
    },
    {
      "cell_type": "markdown",
      "metadata": {
        "id": "IkS6aXavDmRG"
      },
      "source": [
        "## 1.1. Data Exploration"
      ]
    },
    {
      "cell_type": "code",
      "execution_count": null,
      "metadata": {
        "id": "MmLbyjWV-3IF"
      },
      "outputs": [],
      "source": [
        "import matplotlib.pyplot as plt\n",
        "import seaborn as sns\n",
        "\n",
        "def show_class_distribution(data, x=\"type\", figsize=(16,4), title=\"Distrubtion of MBTI Types\", xticks_size=10, palette=\"husl\"):\n",
        "    plt.figure(figsize=figsize)\n",
        "    sns.countplot(x=x, data=data, palette=palette, order = data[x].value_counts().index)\n",
        "    plt.xlabel(\"Personality Types\", size=15)\n",
        "    plt.ylabel(\"Count of Users\", size=15)\n",
        "    plt.xticks(size=xticks_size)\n",
        "    plt.title(title, size=20)\n",
        "    plt.show()"
      ]
    },
    {
      "cell_type": "code",
      "execution_count": null,
      "metadata": {
        "colab": {
          "base_uri": "https://localhost:8080/",
          "height": 309
        },
        "id": "rc394GrE-4r5",
        "outputId": "edd370f3-4e1d-4dc5-8e6a-5acf4809917d"
      },
      "outputs": [
        {
          "data": {
            "image/png": "[encoded data removed]",
            "text/plain": [
              "<Figure size 1152x288 with 1 Axes>"
            ]
          },
          "metadata": {},
          "output_type": "display_data"
        }
      ],
      "source": [
        "show_class_distribution(data, xticks_size=14)"
      ]
    },
    {
      "cell_type": "code",
      "execution_count": null,
      "metadata": {
        "id": "FAF1b0G5piZH"
      },
      "outputs": [],
      "source": [
        "# Code to download file into Colaboratory:\n",
        "!pip install -U -q PyDrive\n",
        "from pydrive.auth import GoogleAuth\n",
        "from pydrive.drive import GoogleDrive\n",
        "from google.colab import auth\n",
        "from oauth2client.client import GoogleCredentials\n",
        "# Authenticate and create the PyDrive client.\n",
        "auth.authenticate_user()\n",
        "gauth = GoogleAuth()\n",
        "gauth.credentials = GoogleCredentials.get_application_default()\n",
        "drive = GoogleDrive(gauth)\n",
        "\n",
        "id = \"1RFTC4Ft1rA9p91TKXCmpmiYQIkEhrJGt\"\n",
        "downloaded = drive.CreateFile({'id':id}) \n",
        "downloaded.GetContentFile('MBTI_population.csv') \n",
        "MBTI_population = pd.read_csv(\"/content/MBTI_population.csv\")"
      ]
    },
    {
      "cell_type": "code",
      "execution_count": null,
      "metadata": {
        "colab": {
          "base_uri": "https://localhost:8080/",
          "height": 551
        },
        "id": "0mxxuPOBq5QL",
        "outputId": "70f1b929-b7ca-4a80-b350-3192c335d946"
      },
      "outputs": [
        {
          "data": {
            "text/html": [
              "\n",
              "  <div id=\"df-6519203b-eb5a-4462-97c0-e4b4f8048208\">\n",
              "    <div class=\"colab-df-container\">\n",
              "      <div>\n",
              "<style scoped>\n",
              "    .dataframe tbody tr th:only-of-type {\n",
              "        vertical-align: middle;\n",
              "    }\n",
              "\n",
              "    .dataframe tbody tr th {\n",
              "        vertical-align: top;\n",
              "    }\n",
              "\n",
              "    .dataframe thead th {\n",
              "        text-align: right;\n",
              "    }\n",
              "</style>\n",
              "<table border=\"1\" class=\"dataframe\">\n",
              "  <thead>\n",
              "    <tr style=\"text-align: right;\">\n",
              "      <th></th>\n",
              "      <th>Personality Type</th>\n",
              "      <th>Frequency in Population  (%)</th>\n",
              "    </tr>\n",
              "  </thead>\n",
              "  <tbody>\n",
              "    <tr>\n",
              "      <th>0</th>\n",
              "      <td>ISFJ</td>\n",
              "      <td>0.138</td>\n",
              "    </tr>\n",
              "    <tr>\n",
              "      <th>1</th>\n",
              "      <td>ESFJ</td>\n",
              "      <td>0.123</td>\n",
              "    </tr>\n",
              "    <tr>\n",
              "      <th>2</th>\n",
              "      <td>ISTJ</td>\n",
              "      <td>0.116</td>\n",
              "    </tr>\n",
              "    <tr>\n",
              "      <th>3</th>\n",
              "      <td>ISFP</td>\n",
              "      <td>0.088</td>\n",
              "    </tr>\n",
              "    <tr>\n",
              "      <th>4</th>\n",
              "      <td>ESTJ</td>\n",
              "      <td>0.087</td>\n",
              "    </tr>\n",
              "    <tr>\n",
              "      <th>5</th>\n",
              "      <td>ESFP</td>\n",
              "      <td>0.085</td>\n",
              "    </tr>\n",
              "    <tr>\n",
              "      <th>6</th>\n",
              "      <td>ENFP</td>\n",
              "      <td>0.081</td>\n",
              "    </tr>\n",
              "    <tr>\n",
              "      <th>7</th>\n",
              "      <td>ISTP</td>\n",
              "      <td>0.054</td>\n",
              "    </tr>\n",
              "    <tr>\n",
              "      <th>8</th>\n",
              "      <td>INFP</td>\n",
              "      <td>0.044</td>\n",
              "    </tr>\n",
              "    <tr>\n",
              "      <th>9</th>\n",
              "      <td>ESTP</td>\n",
              "      <td>0.043</td>\n",
              "    </tr>\n",
              "    <tr>\n",
              "      <th>10</th>\n",
              "      <td>INTP</td>\n",
              "      <td>0.033</td>\n",
              "    </tr>\n",
              "    <tr>\n",
              "      <th>11</th>\n",
              "      <td>ENTP</td>\n",
              "      <td>0.032</td>\n",
              "    </tr>\n",
              "    <tr>\n",
              "      <th>12</th>\n",
              "      <td>ENFJ</td>\n",
              "      <td>0.025</td>\n",
              "    </tr>\n",
              "    <tr>\n",
              "      <th>13</th>\n",
              "      <td>INTJ</td>\n",
              "      <td>0.021</td>\n",
              "    </tr>\n",
              "    <tr>\n",
              "      <th>14</th>\n",
              "      <td>ENTJ</td>\n",
              "      <td>0.018</td>\n",
              "    </tr>\n",
              "    <tr>\n",
              "      <th>15</th>\n",
              "      <td>INFJ</td>\n",
              "      <td>0.015</td>\n",
              "    </tr>\n",
              "  </tbody>\n",
              "</table>\n",
              "</div>\n",
              "      <button class=\"colab-df-convert\" onclick=\"convertToInteractive('df-6519203b-eb5a-4462-97c0-e4b4f8048208')\"\n",
              "              title=\"Convert this dataframe to an interactive table.\"\n",
              "              style=\"display:none;\">\n",
              "        \n",
              "  <svg xmlns=\"http://www.w3.org/2000/svg\" height=\"24px\"viewBox=\"0 0 24 24\"\n",
              "       width=\"24px\">\n",
              "    <path d=\"M0 0h24v24H0V0z\" fill=\"none\"/>\n",
              "    <path d=\"M18.56 5.44l.94 2.06.94-2.06 2.06-.94-2.06-.94-.94-2.06-.94 2.06-2.06.94zm-11 1L8.5 8.5l.94-2.06 2.06-.94-2.06-.94L8.5 2.5l-.94 2.06-2.06.94zm10 10l.94 2.06.94-2.06 2.06-.94-2.06-.94-.94-2.06-.94 2.06-2.06.94z\"/><path d=\"M17.41 7.96l-1.37-1.37c-.4-.4-.92-.59-1.43-.59-.52 0-1.04.2-1.43.59L10.3 9.45l-7.72 7.72c-.78.78-.78 2.05 0 2.83L4 21.41c.39.39.9.59 1.41.59.51 0 1.02-.2 1.41-.59l7.78-7.78 2.81-2.81c.8-.78.8-2.07 0-2.86zM5.41 20L4 18.59l7.72-7.72 1.47 1.35L5.41 20z\"/>\n",
              "  </svg>\n",
              "      </button>\n",
              "      \n",
              "  <style>\n",
              "    .colab-df-container {\n",
              "      display:flex;\n",
              "      flex-wrap:wrap;\n",
              "      gap: 12px;\n",
              "    }\n",
              "\n",
              "    .colab-df-convert {\n",
              "      background-color: #E8F0FE;\n",
              "      border: none;\n",
              "      border-radius: 50%;\n",
              "      cursor: pointer;\n",
              "      display: none;\n",
              "      fill: #1967D2;\n",
              "      height: 32px;\n",
              "      padding: 0 0 0 0;\n",
              "      width: 32px;\n",
              "    }\n",
              "\n",
              "    .colab-df-convert:hover {\n",
              "      background-color: #E2EBFA;\n",
              "      box-shadow: 0px 1px 2px rgba(60, 64, 67, 0.3), 0px 1px 3px 1px rgba(60, 64, 67, 0.15);\n",
              "      fill: #174EA6;\n",
              "    }\n",
              "\n",
              "    [theme=dark] .colab-df-convert {\n",
              "      background-color: #3B4455;\n",
              "      fill: #D2E3FC;\n",
              "    }\n",
              "\n",
              "    [theme=dark] .colab-df-convert:hover {\n",
              "      background-color: #434B5C;\n",
              "      box-shadow: 0px 1px 3px 1px rgba(0, 0, 0, 0.15);\n",
              "      filter: drop-shadow(0px 1px 2px rgba(0, 0, 0, 0.3));\n",
              "      fill: #FFFFFF;\n",
              "    }\n",
              "  </style>\n",
              "\n",
              "      <script>\n",
              "        const buttonEl =\n",
              "          document.querySelector('#df-6519203b-eb5a-4462-97c0-e4b4f8048208 button.colab-df-convert');\n",
              "        buttonEl.style.display =\n",
              "          google.colab.kernel.accessAllowed ? 'block' : 'none';\n",
              "\n",
              "        async function convertToInteractive(key) {\n",
              "          const element = document.querySelector('#df-6519203b-eb5a-4462-97c0-e4b4f8048208');\n",
              "          const dataTable =\n",
              "            await google.colab.kernel.invokeFunction('convertToInteractive',\n",
              "                                                     [key], {});\n",
              "          if (!dataTable) return;\n",
              "\n",
              "          const docLinkHtml = 'Like what you see? Visit the ' +\n",
              "            '<a target=\"_blank\" href=https://colab.research.google.com/notebooks/data_table.ipynb>data table notebook</a>'\n",
              "            + ' to learn more about interactive tables.';\n",
              "          element.innerHTML = '';\n",
              "          dataTable['output_type'] = 'display_data';\n",
              "          await google.colab.output.renderOutput(dataTable, element);\n",
              "          const docLink = document.createElement('div');\n",
              "          docLink.innerHTML = docLinkHtml;\n",
              "          element.appendChild(docLink);\n",
              "        }\n",
              "      </script>\n",
              "    </div>\n",
              "  </div>\n",
              "  "
            ],
            "text/plain": [
              "   Personality Type   Frequency in Population  (%)\n",
              "0              ISFJ                          0.138\n",
              "1              ESFJ                          0.123\n",
              "2              ISTJ                          0.116\n",
              "3              ISFP                          0.088\n",
              "4              ESTJ                          0.087\n",
              "5              ESFP                          0.085\n",
              "6              ENFP                          0.081\n",
              "7              ISTP                          0.054\n",
              "8              INFP                          0.044\n",
              "9              ESTP                          0.043\n",
              "10             INTP                          0.033\n",
              "11             ENTP                          0.032\n",
              "12             ENFJ                          0.025\n",
              "13             INTJ                          0.021\n",
              "14             ENTJ                          0.018\n",
              "15             INFJ                          0.015"
            ]
          },
          "execution_count": 9,
          "metadata": {},
          "output_type": "execute_result"
        }
      ],
      "source": [
        "MBTI_population"
      ]
    },
    {
      "cell_type": "code",
      "execution_count": null,
      "metadata": {
        "id": "Nsl1HU99q-Dx"
      },
      "outputs": [],
      "source": [
        "MBTI_population[\"expected\"] = MBTI_population[\" Frequency in Population  (%)\"].apply(lambda x: x*len(data))\n",
        "del MBTI_population[\" Frequency in Population  (%)\"]"
      ]
    },
    {
      "cell_type": "code",
      "execution_count": null,
      "metadata": {
        "colab": {
          "base_uri": "https://localhost:8080/",
          "height": 551
        },
        "id": "8fLox5cctpO0",
        "outputId": "0ae6f810-28d0-4516-c14d-194295baedf1"
      },
      "outputs": [
        {
          "data": {
            "text/html": [
              "\n",
              "  <div id=\"df-8ff298e7-9372-4c36-b922-447f99e4f113\">\n",
              "    <div class=\"colab-df-container\">\n",
              "      <div>\n",
              "<style scoped>\n",
              "    .dataframe tbody tr th:only-of-type {\n",
              "        vertical-align: middle;\n",
              "    }\n",
              "\n",
              "    .dataframe tbody tr th {\n",
              "        vertical-align: top;\n",
              "    }\n",
              "\n",
              "    .dataframe thead th {\n",
              "        text-align: right;\n",
              "    }\n",
              "</style>\n",
              "<table border=\"1\" class=\"dataframe\">\n",
              "  <thead>\n",
              "    <tr style=\"text-align: right;\">\n",
              "      <th></th>\n",
              "      <th>Personality Type</th>\n",
              "      <th>expected</th>\n",
              "    </tr>\n",
              "  </thead>\n",
              "  <tbody>\n",
              "    <tr>\n",
              "      <th>0</th>\n",
              "      <td>ISFJ</td>\n",
              "      <td>1197.150</td>\n",
              "    </tr>\n",
              "    <tr>\n",
              "      <th>1</th>\n",
              "      <td>ESFJ</td>\n",
              "      <td>1067.025</td>\n",
              "    </tr>\n",
              "    <tr>\n",
              "      <th>2</th>\n",
              "      <td>ISTJ</td>\n",
              "      <td>1006.300</td>\n",
              "    </tr>\n",
              "    <tr>\n",
              "      <th>3</th>\n",
              "      <td>ISFP</td>\n",
              "      <td>763.400</td>\n",
              "    </tr>\n",
              "    <tr>\n",
              "      <th>4</th>\n",
              "      <td>ESTJ</td>\n",
              "      <td>754.725</td>\n",
              "    </tr>\n",
              "    <tr>\n",
              "      <th>5</th>\n",
              "      <td>ESFP</td>\n",
              "      <td>737.375</td>\n",
              "    </tr>\n",
              "    <tr>\n",
              "      <th>6</th>\n",
              "      <td>ENFP</td>\n",
              "      <td>702.675</td>\n",
              "    </tr>\n",
              "    <tr>\n",
              "      <th>7</th>\n",
              "      <td>ISTP</td>\n",
              "      <td>468.450</td>\n",
              "    </tr>\n",
              "    <tr>\n",
              "      <th>8</th>\n",
              "      <td>INFP</td>\n",
              "      <td>381.700</td>\n",
              "    </tr>\n",
              "    <tr>\n",
              "      <th>9</th>\n",
              "      <td>ESTP</td>\n",
              "      <td>373.025</td>\n",
              "    </tr>\n",
              "    <tr>\n",
              "      <th>10</th>\n",
              "      <td>INTP</td>\n",
              "      <td>286.275</td>\n",
              "    </tr>\n",
              "    <tr>\n",
              "      <th>11</th>\n",
              "      <td>ENTP</td>\n",
              "      <td>277.600</td>\n",
              "    </tr>\n",
              "    <tr>\n",
              "      <th>12</th>\n",
              "      <td>ENFJ</td>\n",
              "      <td>216.875</td>\n",
              "    </tr>\n",
              "    <tr>\n",
              "      <th>13</th>\n",
              "      <td>INTJ</td>\n",
              "      <td>182.175</td>\n",
              "    </tr>\n",
              "    <tr>\n",
              "      <th>14</th>\n",
              "      <td>ENTJ</td>\n",
              "      <td>156.150</td>\n",
              "    </tr>\n",
              "    <tr>\n",
              "      <th>15</th>\n",
              "      <td>INFJ</td>\n",
              "      <td>130.125</td>\n",
              "    </tr>\n",
              "  </tbody>\n",
              "</table>\n",
              "</div>\n",
              "      <button class=\"colab-df-convert\" onclick=\"convertToInteractive('df-8ff298e7-9372-4c36-b922-447f99e4f113')\"\n",
              "              title=\"Convert this dataframe to an interactive table.\"\n",
              "              style=\"display:none;\">\n",
              "        \n",
              "  <svg xmlns=\"http://www.w3.org/2000/svg\" height=\"24px\"viewBox=\"0 0 24 24\"\n",
              "       width=\"24px\">\n",
              "    <path d=\"M0 0h24v24H0V0z\" fill=\"none\"/>\n",
              "    <path d=\"M18.56 5.44l.94 2.06.94-2.06 2.06-.94-2.06-.94-.94-2.06-.94 2.06-2.06.94zm-11 1L8.5 8.5l.94-2.06 2.06-.94-2.06-.94L8.5 2.5l-.94 2.06-2.06.94zm10 10l.94 2.06.94-2.06 2.06-.94-2.06-.94-.94-2.06-.94 2.06-2.06.94z\"/><path d=\"M17.41 7.96l-1.37-1.37c-.4-.4-.92-.59-1.43-.59-.52 0-1.04.2-1.43.59L10.3 9.45l-7.72 7.72c-.78.78-.78 2.05 0 2.83L4 21.41c.39.39.9.59 1.41.59.51 0 1.02-.2 1.41-.59l7.78-7.78 2.81-2.81c.8-.78.8-2.07 0-2.86zM5.41 20L4 18.59l7.72-7.72 1.47 1.35L5.41 20z\"/>\n",
              "  </svg>\n",
              "      </button>\n",
              "      \n",
              "  <style>\n",
              "    .colab-df-container {\n",
              "      display:flex;\n",
              "      flex-wrap:wrap;\n",
              "      gap: 12px;\n",
              "    }\n",
              "\n",
              "    .colab-df-convert {\n",
              "      background-color: #E8F0FE;\n",
              "      border: none;\n",
              "      border-radius: 50%;\n",
              "      cursor: pointer;\n",
              "      display: none;\n",
              "      fill: #1967D2;\n",
              "      height: 32px;\n",
              "      padding: 0 0 0 0;\n",
              "      width: 32px;\n",
              "    }\n",
              "\n",
              "    .colab-df-convert:hover {\n",
              "      background-color: #E2EBFA;\n",
              "      box-shadow: 0px 1px 2px rgba(60, 64, 67, 0.3), 0px 1px 3px 1px rgba(60, 64, 67, 0.15);\n",
              "      fill: #174EA6;\n",
              "    }\n",
              "\n",
              "    [theme=dark] .colab-df-convert {\n",
              "      background-color: #3B4455;\n",
              "      fill: #D2E3FC;\n",
              "    }\n",
              "\n",
              "    [theme=dark] .colab-df-convert:hover {\n",
              "      background-color: #434B5C;\n",
              "      box-shadow: 0px 1px 3px 1px rgba(0, 0, 0, 0.15);\n",
              "      filter: drop-shadow(0px 1px 2px rgba(0, 0, 0, 0.3));\n",
              "      fill: #FFFFFF;\n",
              "    }\n",
              "  </style>\n",
              "\n",
              "      <script>\n",
              "        const buttonEl =\n",
              "          document.querySelector('#df-8ff298e7-9372-4c36-b922-447f99e4f113 button.colab-df-convert');\n",
              "        buttonEl.style.display =\n",
              "          google.colab.kernel.accessAllowed ? 'block' : 'none';\n",
              "\n",
              "        async function convertToInteractive(key) {\n",
              "          const element = document.querySelector('#df-8ff298e7-9372-4c36-b922-447f99e4f113');\n",
              "          const dataTable =\n",
              "            await google.colab.kernel.invokeFunction('convertToInteractive',\n",
              "                                                     [key], {});\n",
              "          if (!dataTable) return;\n",
              "\n",
              "          const docLinkHtml = 'Like what you see? Visit the ' +\n",
              "            '<a target=\"_blank\" href=https://colab.research.google.com/notebooks/data_table.ipynb>data table notebook</a>'\n",
              "            + ' to learn more about interactive tables.';\n",
              "          element.innerHTML = '';\n",
              "          dataTable['output_type'] = 'display_data';\n",
              "          await google.colab.output.renderOutput(dataTable, element);\n",
              "          const docLink = document.createElement('div');\n",
              "          docLink.innerHTML = docLinkHtml;\n",
              "          element.appendChild(docLink);\n",
              "        }\n",
              "      </script>\n",
              "    </div>\n",
              "  </div>\n",
              "  "
            ],
            "text/plain": [
              "   Personality Type  expected\n",
              "0              ISFJ  1197.150\n",
              "1              ESFJ  1067.025\n",
              "2              ISTJ  1006.300\n",
              "3              ISFP   763.400\n",
              "4              ESTJ   754.725\n",
              "5              ESFP   737.375\n",
              "6              ENFP   702.675\n",
              "7              ISTP   468.450\n",
              "8              INFP   381.700\n",
              "9              ESTP   373.025\n",
              "10             INTP   286.275\n",
              "11             ENTP   277.600\n",
              "12             ENFJ   216.875\n",
              "13             INTJ   182.175\n",
              "14             ENTJ   156.150\n",
              "15             INFJ   130.125"
            ]
          },
          "execution_count": 11,
          "metadata": {},
          "output_type": "execute_result"
        }
      ],
      "source": [
        "MBTI_population"
      ]
    },
    {
      "cell_type": "code",
      "execution_count": null,
      "metadata": {
        "colab": {
          "base_uri": "https://localhost:8080/",
          "height": 365
        },
        "id": "4gTlEbYmtMNS",
        "outputId": "fdc5f7db-b8a0-40d7-8119-97e2928679c1"
      },
      "outputs": [
        {
          "name": "stderr",
          "output_type": "stream",
          "text": [
            "/usr/local/lib/python3.7/dist-packages/seaborn/_decorators.py:43: FutureWarning: Pass the following variables as keyword args: x, y. From version 0.12, the only valid positional argument will be `data`, and passing other arguments without an explicit keyword will result in an error or misinterpretation.\n",
            "  FutureWarning\n"
          ]
        },
        {
          "data": {
            "image/png": "[encoded data removed]",
            "text/plain": [
              "<Figure size 1152x288 with 1 Axes>"
            ]
          },
          "metadata": {},
          "output_type": "display_data"
        }
      ],
      "source": [
        "plt.figure(figsize=(16,4))\n",
        "sns.barplot(MBTI_population[\"Personality Type\"],MBTI_population[\"expected\"])\n",
        "plt.xlabel(\"Personality Types\", size=15)\n",
        "plt.ylabel(\"Count\", size=15)\n",
        "plt.xticks(size=14)\n",
        "plt.title(\"Real Distrubtion of MBTI Types\", size=20)\n",
        "plt.show()"
      ]
    },
    {
      "cell_type": "code",
      "execution_count": null,
      "metadata": {
        "id": "Aw0LWg4N0tMZ"
      },
      "outputs": [],
      "source": [
        "# Reorder the original to compare to expected on the plot\n",
        "original_count = data[\"type\"].value_counts().rename_axis('type').reset_index(name='counts')\n",
        "original_count = original_count.set_index(\"type\")\n",
        "original_count = original_count.reindex(index=MBTI_population[\"Personality Type\"])\n",
        "original_count = original_count.reset_index()"
      ]
    },
    {
      "cell_type": "code",
      "execution_count": null,
      "metadata": {
        "colab": {
          "base_uri": "https://localhost:8080/",
          "height": 551
        },
        "id": "Jc0iczgC22Vg",
        "outputId": "9a6cb1fe-ce31-4fe8-c9fe-7b968eeeef61"
      },
      "outputs": [
        {
          "data": {
            "text/html": [
              "\n",
              "  <div id=\"df-223431ae-b1c5-420d-b166-e6cdfdeb63d7\">\n",
              "    <div class=\"colab-df-container\">\n",
              "      <div>\n",
              "<style scoped>\n",
              "    .dataframe tbody tr th:only-of-type {\n",
              "        vertical-align: middle;\n",
              "    }\n",
              "\n",
              "    .dataframe tbody tr th {\n",
              "        vertical-align: top;\n",
              "    }\n",
              "\n",
              "    .dataframe thead th {\n",
              "        text-align: right;\n",
              "    }\n",
              "</style>\n",
              "<table border=\"1\" class=\"dataframe\">\n",
              "  <thead>\n",
              "    <tr style=\"text-align: right;\">\n",
              "      <th></th>\n",
              "      <th>Personality Type</th>\n",
              "      <th>counts</th>\n",
              "    </tr>\n",
              "  </thead>\n",
              "  <tbody>\n",
              "    <tr>\n",
              "      <th>0</th>\n",
              "      <td>ISFJ</td>\n",
              "      <td>166</td>\n",
              "    </tr>\n",
              "    <tr>\n",
              "      <th>1</th>\n",
              "      <td>ESFJ</td>\n",
              "      <td>42</td>\n",
              "    </tr>\n",
              "    <tr>\n",
              "      <th>2</th>\n",
              "      <td>ISTJ</td>\n",
              "      <td>205</td>\n",
              "    </tr>\n",
              "    <tr>\n",
              "      <th>3</th>\n",
              "      <td>ISFP</td>\n",
              "      <td>271</td>\n",
              "    </tr>\n",
              "    <tr>\n",
              "      <th>4</th>\n",
              "      <td>ESTJ</td>\n",
              "      <td>39</td>\n",
              "    </tr>\n",
              "    <tr>\n",
              "      <th>5</th>\n",
              "      <td>ESFP</td>\n",
              "      <td>48</td>\n",
              "    </tr>\n",
              "    <tr>\n",
              "      <th>6</th>\n",
              "      <td>ENFP</td>\n",
              "      <td>675</td>\n",
              "    </tr>\n",
              "    <tr>\n",
              "      <th>7</th>\n",
              "      <td>ISTP</td>\n",
              "      <td>337</td>\n",
              "    </tr>\n",
              "    <tr>\n",
              "      <th>8</th>\n",
              "      <td>INFP</td>\n",
              "      <td>1832</td>\n",
              "    </tr>\n",
              "    <tr>\n",
              "      <th>9</th>\n",
              "      <td>ESTP</td>\n",
              "      <td>89</td>\n",
              "    </tr>\n",
              "    <tr>\n",
              "      <th>10</th>\n",
              "      <td>INTP</td>\n",
              "      <td>1304</td>\n",
              "    </tr>\n",
              "    <tr>\n",
              "      <th>11</th>\n",
              "      <td>ENTP</td>\n",
              "      <td>685</td>\n",
              "    </tr>\n",
              "    <tr>\n",
              "      <th>12</th>\n",
              "      <td>ENFJ</td>\n",
              "      <td>190</td>\n",
              "    </tr>\n",
              "    <tr>\n",
              "      <th>13</th>\n",
              "      <td>INTJ</td>\n",
              "      <td>1091</td>\n",
              "    </tr>\n",
              "    <tr>\n",
              "      <th>14</th>\n",
              "      <td>ENTJ</td>\n",
              "      <td>231</td>\n",
              "    </tr>\n",
              "    <tr>\n",
              "      <th>15</th>\n",
              "      <td>INFJ</td>\n",
              "      <td>1470</td>\n",
              "    </tr>\n",
              "  </tbody>\n",
              "</table>\n",
              "</div>\n",
              "      <button class=\"colab-df-convert\" onclick=\"convertToInteractive('df-223431ae-b1c5-420d-b166-e6cdfdeb63d7')\"\n",
              "              title=\"Convert this dataframe to an interactive table.\"\n",
              "              style=\"display:none;\">\n",
              "        \n",
              "  <svg xmlns=\"http://www.w3.org/2000/svg\" height=\"24px\"viewBox=\"0 0 24 24\"\n",
              "       width=\"24px\">\n",
              "    <path d=\"M0 0h24v24H0V0z\" fill=\"none\"/>\n",
              "    <path d=\"M18.56 5.44l.94 2.06.94-2.06 2.06-.94-2.06-.94-.94-2.06-.94 2.06-2.06.94zm-11 1L8.5 8.5l.94-2.06 2.06-.94-2.06-.94L8.5 2.5l-.94 2.06-2.06.94zm10 10l.94 2.06.94-2.06 2.06-.94-2.06-.94-.94-2.06-.94 2.06-2.06.94z\"/><path d=\"M17.41 7.96l-1.37-1.37c-.4-.4-.92-.59-1.43-.59-.52 0-1.04.2-1.43.59L10.3 9.45l-7.72 7.72c-.78.78-.78 2.05 0 2.83L4 21.41c.39.39.9.59 1.41.59.51 0 1.02-.2 1.41-.59l7.78-7.78 2.81-2.81c.8-.78.8-2.07 0-2.86zM5.41 20L4 18.59l7.72-7.72 1.47 1.35L5.41 20z\"/>\n",
              "  </svg>\n",
              "      </button>\n",
              "      \n",
              "  <style>\n",
              "    .colab-df-container {\n",
              "      display:flex;\n",
              "      flex-wrap:wrap;\n",
              "      gap: 12px;\n",
              "    }\n",
              "\n",
              "    .colab-df-convert {\n",
              "      background-color: #E8F0FE;\n",
              "      border: none;\n",
              "      border-radius: 50%;\n",
              "      cursor: pointer;\n",
              "      display: none;\n",
              "      fill: #1967D2;\n",
              "      height: 32px;\n",
              "      padding: 0 0 0 0;\n",
              "      width: 32px;\n",
              "    }\n",
              "\n",
              "    .colab-df-convert:hover {\n",
              "      background-color: #E2EBFA;\n",
              "      box-shadow: 0px 1px 2px rgba(60, 64, 67, 0.3), 0px 1px 3px 1px rgba(60, 64, 67, 0.15);\n",
              "      fill: #174EA6;\n",
              "    }\n",
              "\n",
              "    [theme=dark] .colab-df-convert {\n",
              "      background-color: #3B4455;\n",
              "      fill: #D2E3FC;\n",
              "    }\n",
              "\n",
              "    [theme=dark] .colab-df-convert:hover {\n",
              "      background-color: #434B5C;\n",
              "      box-shadow: 0px 1px 3px 1px rgba(0, 0, 0, 0.15);\n",
              "      filter: drop-shadow(0px 1px 2px rgba(0, 0, 0, 0.3));\n",
              "      fill: #FFFFFF;\n",
              "    }\n",
              "  </style>\n",
              "\n",
              "      <script>\n",
              "        const buttonEl =\n",
              "          document.querySelector('#df-223431ae-b1c5-420d-b166-e6cdfdeb63d7 button.colab-df-convert');\n",
              "        buttonEl.style.display =\n",
              "          google.colab.kernel.accessAllowed ? 'block' : 'none';\n",
              "\n",
              "        async function convertToInteractive(key) {\n",
              "          const element = document.querySelector('#df-223431ae-b1c5-420d-b166-e6cdfdeb63d7');\n",
              "          const dataTable =\n",
              "            await google.colab.kernel.invokeFunction('convertToInteractive',\n",
              "                                                     [key], {});\n",
              "          if (!dataTable) return;\n",
              "\n",
              "          const docLinkHtml = 'Like what you see? Visit the ' +\n",
              "            '<a target=\"_blank\" href=https://colab.research.google.com/notebooks/data_table.ipynb>data table notebook</a>'\n",
              "            + ' to learn more about interactive tables.';\n",
              "          element.innerHTML = '';\n",
              "          dataTable['output_type'] = 'display_data';\n",
              "          await google.colab.output.renderOutput(dataTable, element);\n",
              "          const docLink = document.createElement('div');\n",
              "          docLink.innerHTML = docLinkHtml;\n",
              "          element.appendChild(docLink);\n",
              "        }\n",
              "      </script>\n",
              "    </div>\n",
              "  </div>\n",
              "  "
            ],
            "text/plain": [
              "   Personality Type  counts\n",
              "0              ISFJ     166\n",
              "1              ESFJ      42\n",
              "2              ISTJ     205\n",
              "3              ISFP     271\n",
              "4              ESTJ      39\n",
              "5              ESFP      48\n",
              "6              ENFP     675\n",
              "7              ISTP     337\n",
              "8              INFP    1832\n",
              "9              ESTP      89\n",
              "10             INTP    1304\n",
              "11             ENTP     685\n",
              "12             ENFJ     190\n",
              "13             INTJ    1091\n",
              "14             ENTJ     231\n",
              "15             INFJ    1470"
            ]
          },
          "execution_count": 14,
          "metadata": {},
          "output_type": "execute_result"
        }
      ],
      "source": [
        "original_count"
      ]
    },
    {
      "cell_type": "code",
      "execution_count": null,
      "metadata": {
        "colab": {
          "base_uri": "https://localhost:8080/",
          "height": 551
        },
        "id": "jFWQXoiR238o",
        "outputId": "e962a265-c663-42fe-c984-dae7eca8fb76"
      },
      "outputs": [
        {
          "data": {
            "text/html": [
              "\n",
              "  <div id=\"df-77910a7b-3538-4d50-ae75-1237978b3caa\">\n",
              "    <div class=\"colab-df-container\">\n",
              "      <div>\n",
              "<style scoped>\n",
              "    .dataframe tbody tr th:only-of-type {\n",
              "        vertical-align: middle;\n",
              "    }\n",
              "\n",
              "    .dataframe tbody tr th {\n",
              "        vertical-align: top;\n",
              "    }\n",
              "\n",
              "    .dataframe thead th {\n",
              "        text-align: right;\n",
              "    }\n",
              "</style>\n",
              "<table border=\"1\" class=\"dataframe\">\n",
              "  <thead>\n",
              "    <tr style=\"text-align: right;\">\n",
              "      <th></th>\n",
              "      <th>Personality Type</th>\n",
              "      <th>expected</th>\n",
              "    </tr>\n",
              "  </thead>\n",
              "  <tbody>\n",
              "    <tr>\n",
              "      <th>0</th>\n",
              "      <td>ISFJ</td>\n",
              "      <td>1197.150</td>\n",
              "    </tr>\n",
              "    <tr>\n",
              "      <th>1</th>\n",
              "      <td>ESFJ</td>\n",
              "      <td>1067.025</td>\n",
              "    </tr>\n",
              "    <tr>\n",
              "      <th>2</th>\n",
              "      <td>ISTJ</td>\n",
              "      <td>1006.300</td>\n",
              "    </tr>\n",
              "    <tr>\n",
              "      <th>3</th>\n",
              "      <td>ISFP</td>\n",
              "      <td>763.400</td>\n",
              "    </tr>\n",
              "    <tr>\n",
              "      <th>4</th>\n",
              "      <td>ESTJ</td>\n",
              "      <td>754.725</td>\n",
              "    </tr>\n",
              "    <tr>\n",
              "      <th>5</th>\n",
              "      <td>ESFP</td>\n",
              "      <td>737.375</td>\n",
              "    </tr>\n",
              "    <tr>\n",
              "      <th>6</th>\n",
              "      <td>ENFP</td>\n",
              "      <td>702.675</td>\n",
              "    </tr>\n",
              "    <tr>\n",
              "      <th>7</th>\n",
              "      <td>ISTP</td>\n",
              "      <td>468.450</td>\n",
              "    </tr>\n",
              "    <tr>\n",
              "      <th>8</th>\n",
              "      <td>INFP</td>\n",
              "      <td>381.700</td>\n",
              "    </tr>\n",
              "    <tr>\n",
              "      <th>9</th>\n",
              "      <td>ESTP</td>\n",
              "      <td>373.025</td>\n",
              "    </tr>\n",
              "    <tr>\n",
              "      <th>10</th>\n",
              "      <td>INTP</td>\n",
              "      <td>286.275</td>\n",
              "    </tr>\n",
              "    <tr>\n",
              "      <th>11</th>\n",
              "      <td>ENTP</td>\n",
              "      <td>277.600</td>\n",
              "    </tr>\n",
              "    <tr>\n",
              "      <th>12</th>\n",
              "      <td>ENFJ</td>\n",
              "      <td>216.875</td>\n",
              "    </tr>\n",
              "    <tr>\n",
              "      <th>13</th>\n",
              "      <td>INTJ</td>\n",
              "      <td>182.175</td>\n",
              "    </tr>\n",
              "    <tr>\n",
              "      <th>14</th>\n",
              "      <td>ENTJ</td>\n",
              "      <td>156.150</td>\n",
              "    </tr>\n",
              "    <tr>\n",
              "      <th>15</th>\n",
              "      <td>INFJ</td>\n",
              "      <td>130.125</td>\n",
              "    </tr>\n",
              "  </tbody>\n",
              "</table>\n",
              "</div>\n",
              "      <button class=\"colab-df-convert\" onclick=\"convertToInteractive('df-77910a7b-3538-4d50-ae75-1237978b3caa')\"\n",
              "              title=\"Convert this dataframe to an interactive table.\"\n",
              "              style=\"display:none;\">\n",
              "        \n",
              "  <svg xmlns=\"http://www.w3.org/2000/svg\" height=\"24px\"viewBox=\"0 0 24 24\"\n",
              "       width=\"24px\">\n",
              "    <path d=\"M0 0h24v24H0V0z\" fill=\"none\"/>\n",
              "    <path d=\"M18.56 5.44l.94 2.06.94-2.06 2.06-.94-2.06-.94-.94-2.06-.94 2.06-2.06.94zm-11 1L8.5 8.5l.94-2.06 2.06-.94-2.06-.94L8.5 2.5l-.94 2.06-2.06.94zm10 10l.94 2.06.94-2.06 2.06-.94-2.06-.94-.94-2.06-.94 2.06-2.06.94z\"/><path d=\"M17.41 7.96l-1.37-1.37c-.4-.4-.92-.59-1.43-.59-.52 0-1.04.2-1.43.59L10.3 9.45l-7.72 7.72c-.78.78-.78 2.05 0 2.83L4 21.41c.39.39.9.59 1.41.59.51 0 1.02-.2 1.41-.59l7.78-7.78 2.81-2.81c.8-.78.8-2.07 0-2.86zM5.41 20L4 18.59l7.72-7.72 1.47 1.35L5.41 20z\"/>\n",
              "  </svg>\n",
              "      </button>\n",
              "      \n",
              "  <style>\n",
              "    .colab-df-container {\n",
              "      display:flex;\n",
              "      flex-wrap:wrap;\n",
              "      gap: 12px;\n",
              "    }\n",
              "\n",
              "    .colab-df-convert {\n",
              "      background-color: #E8F0FE;\n",
              "      border: none;\n",
              "      border-radius: 50%;\n",
              "      cursor: pointer;\n",
              "      display: none;\n",
              "      fill: #1967D2;\n",
              "      height: 32px;\n",
              "      padding: 0 0 0 0;\n",
              "      width: 32px;\n",
              "    }\n",
              "\n",
              "    .colab-df-convert:hover {\n",
              "      background-color: #E2EBFA;\n",
              "      box-shadow: 0px 1px 2px rgba(60, 64, 67, 0.3), 0px 1px 3px 1px rgba(60, 64, 67, 0.15);\n",
              "      fill: #174EA6;\n",
              "    }\n",
              "\n",
              "    [theme=dark] .colab-df-convert {\n",
              "      background-color: #3B4455;\n",
              "      fill: #D2E3FC;\n",
              "    }\n",
              "\n",
              "    [theme=dark] .colab-df-convert:hover {\n",
              "      background-color: #434B5C;\n",
              "      box-shadow: 0px 1px 3px 1px rgba(0, 0, 0, 0.15);\n",
              "      filter: drop-shadow(0px 1px 2px rgba(0, 0, 0, 0.3));\n",
              "      fill: #FFFFFF;\n",
              "    }\n",
              "  </style>\n",
              "\n",
              "      <script>\n",
              "        const buttonEl =\n",
              "          document.querySelector('#df-77910a7b-3538-4d50-ae75-1237978b3caa button.colab-df-convert');\n",
              "        buttonEl.style.display =\n",
              "          google.colab.kernel.accessAllowed ? 'block' : 'none';\n",
              "\n",
              "        async function convertToInteractive(key) {\n",
              "          const element = document.querySelector('#df-77910a7b-3538-4d50-ae75-1237978b3caa');\n",
              "          const dataTable =\n",
              "            await google.colab.kernel.invokeFunction('convertToInteractive',\n",
              "                                                     [key], {});\n",
              "          if (!dataTable) return;\n",
              "\n",
              "          const docLinkHtml = 'Like what you see? Visit the ' +\n",
              "            '<a target=\"_blank\" href=https://colab.research.google.com/notebooks/data_table.ipynb>data table notebook</a>'\n",
              "            + ' to learn more about interactive tables.';\n",
              "          element.innerHTML = '';\n",
              "          dataTable['output_type'] = 'display_data';\n",
              "          await google.colab.output.renderOutput(dataTable, element);\n",
              "          const docLink = document.createElement('div');\n",
              "          docLink.innerHTML = docLinkHtml;\n",
              "          element.appendChild(docLink);\n",
              "        }\n",
              "      </script>\n",
              "    </div>\n",
              "  </div>\n",
              "  "
            ],
            "text/plain": [
              "   Personality Type  expected\n",
              "0              ISFJ  1197.150\n",
              "1              ESFJ  1067.025\n",
              "2              ISTJ  1006.300\n",
              "3              ISFP   763.400\n",
              "4              ESTJ   754.725\n",
              "5              ESFP   737.375\n",
              "6              ENFP   702.675\n",
              "7              ISTP   468.450\n",
              "8              INFP   381.700\n",
              "9              ESTP   373.025\n",
              "10             INTP   286.275\n",
              "11             ENTP   277.600\n",
              "12             ENFJ   216.875\n",
              "13             INTJ   182.175\n",
              "14             ENTJ   156.150\n",
              "15             INFJ   130.125"
            ]
          },
          "execution_count": 15,
          "metadata": {},
          "output_type": "execute_result"
        }
      ],
      "source": [
        "MBTI_population"
      ]
    },
    {
      "cell_type": "code",
      "execution_count": null,
      "metadata": {
        "colab": {
          "base_uri": "https://localhost:8080/",
          "height": 323
        },
        "id": "8dQrxMN3ynap",
        "outputId": "82f7ab26-a6e8-4866-ea99-75457e544d29"
      },
      "outputs": [
        {
          "data": {
            "text/plain": [
              "<matplotlib.legend.Legend at 0x7f37479f6090>"
            ]
          },
          "execution_count": 16,
          "metadata": {},
          "output_type": "execute_result"
        },
        {
          "data": {
            "image/png": "[encoded data removed]",
            "text/plain": [
              "<Figure size 1152x288 with 1 Axes>"
            ]
          },
          "metadata": {},
          "output_type": "display_data"
        }
      ],
      "source": [
        "import numpy as np\n",
        "index = np.arange(16)\n",
        "bar_width = 0.35\n",
        "\n",
        "fig, ax = plt.subplots(figsize=(16,4))\n",
        "original = ax.bar(index, original_count[\"counts\"], bar_width,\n",
        "                label=\"Actual\")\n",
        "expected = ax.bar(index+bar_width, MBTI_population[\"expected\"],\n",
        "                 bar_width, label=\"Expected\")\n",
        "ax.set_xlabel(\"Personality Types\", size=15)\n",
        "ax.set_ylabel(\"Count of Users\", size=15)\n",
        "ax.set_title(\"Actual vs Expected Distrubtion of MBTI Types\",  size=20)\n",
        "ax.set_xticks(index + bar_width / 2)\n",
        "ax.set_xticklabels(MBTI_population[\"Personality Type\"].tolist())\n",
        "ax.legend()"
      ]
    },
    {
      "cell_type": "code",
      "execution_count": null,
      "metadata": {
        "id": "SLNfb1UQmJdj"
      },
      "outputs": [],
      "source": [
        "def convert_type(text, key, opposite_key):\n",
        "  if key in text:\n",
        "    return key\n",
        "  elif opposite_key in text:\n",
        "    return opposite_key\n",
        "    \n",
        "def extract_key(key, opposite_key):\n",
        "  column_name = key + \"-\" + opposite_key\n",
        "  MBTI_population[column_name] = MBTI_population[\"Personality Type\"].apply(lambda x: convert_type(x, key, opposite_key))\n",
        "  original_count[column_name] = original_count[\"Personality Type\"].apply(lambda x: convert_type(x, key, opposite_key))\n",
        "  \n",
        "  expected = MBTI_population.groupby(column_name).sum()\n",
        "  expected = expected.groupby(column_name).sum()\n",
        "  expected = expected.reset_index(level=0)\n",
        "\n",
        "  actual = original_count.groupby(column_name).sum()\n",
        "  actual = actual.groupby(column_name).sum()\n",
        "  actual = actual.reset_index(level=0)\n",
        "  return expected, actual"
      ]
    },
    {
      "cell_type": "code",
      "execution_count": null,
      "metadata": {
        "id": "-yMo7jpZm6pU"
      },
      "outputs": [],
      "source": [
        "expected_EI, actual_E1 = extract_key(\"I\", \"E\")\n",
        "expected_NS, actual_NS = extract_key(\"N\", \"S\")\n",
        "expected_TF, actual_TF = extract_key(\"T\", \"F\")\n",
        "expected_JP, actual_JP = extract_key(\"J\", \"P\")"
      ]
    },
    {
      "cell_type": "code",
      "execution_count": null,
      "metadata": {
        "colab": {
          "base_uri": "https://localhost:8080/",
          "height": 112
        },
        "id": "bi32_qKfpbLS",
        "outputId": "6483f46f-7d31-415d-c959-d5c449decdde"
      },
      "outputs": [
        {
          "data": {
            "text/html": [
              "\n",
              "  <div id=\"df-b7521ccb-8625-48f6-b636-4c1765831cdd\">\n",
              "    <div class=\"colab-df-container\">\n",
              "      <div>\n",
              "<style scoped>\n",
              "    .dataframe tbody tr th:only-of-type {\n",
              "        vertical-align: middle;\n",
              "    }\n",
              "\n",
              "    .dataframe tbody tr th {\n",
              "        vertical-align: top;\n",
              "    }\n",
              "\n",
              "    .dataframe thead th {\n",
              "        text-align: right;\n",
              "    }\n",
              "</style>\n",
              "<table border=\"1\" class=\"dataframe\">\n",
              "  <thead>\n",
              "    <tr style=\"text-align: right;\">\n",
              "      <th></th>\n",
              "      <th>J-P</th>\n",
              "      <th>expected</th>\n",
              "    </tr>\n",
              "  </thead>\n",
              "  <tbody>\n",
              "    <tr>\n",
              "      <th>0</th>\n",
              "      <td>J</td>\n",
              "      <td>4710.525</td>\n",
              "    </tr>\n",
              "    <tr>\n",
              "      <th>1</th>\n",
              "      <td>P</td>\n",
              "      <td>3990.500</td>\n",
              "    </tr>\n",
              "  </tbody>\n",
              "</table>\n",
              "</div>\n",
              "      <button class=\"colab-df-convert\" onclick=\"convertToInteractive('df-b7521ccb-8625-48f6-b636-4c1765831cdd')\"\n",
              "              title=\"Convert this dataframe to an interactive table.\"\n",
              "              style=\"display:none;\">\n",
              "        \n",
              "  <svg xmlns=\"http://www.w3.org/2000/svg\" height=\"24px\"viewBox=\"0 0 24 24\"\n",
              "       width=\"24px\">\n",
              "    <path d=\"M0 0h24v24H0V0z\" fill=\"none\"/>\n",
              "    <path d=\"M18.56 5.44l.94 2.06.94-2.06 2.06-.94-2.06-.94-.94-2.06-.94 2.06-2.06.94zm-11 1L8.5 8.5l.94-2.06 2.06-.94-2.06-.94L8.5 2.5l-.94 2.06-2.06.94zm10 10l.94 2.06.94-2.06 2.06-.94-2.06-.94-.94-2.06-.94 2.06-2.06.94z\"/><path d=\"M17.41 7.96l-1.37-1.37c-.4-.4-.92-.59-1.43-.59-.52 0-1.04.2-1.43.59L10.3 9.45l-7.72 7.72c-.78.78-.78 2.05 0 2.83L4 21.41c.39.39.9.59 1.41.59.51 0 1.02-.2 1.41-.59l7.78-7.78 2.81-2.81c.8-.78.8-2.07 0-2.86zM5.41 20L4 18.59l7.72-7.72 1.47 1.35L5.41 20z\"/>\n",
              "  </svg>\n",
              "      </button>\n",
              "      \n",
              "  <style>\n",
              "    .colab-df-container {\n",
              "      display:flex;\n",
              "      flex-wrap:wrap;\n",
              "      gap: 12px;\n",
              "    }\n",
              "\n",
              "    .colab-df-convert {\n",
              "      background-color: #E8F0FE;\n",
              "      border: none;\n",
              "      border-radius: 50%;\n",
              "      cursor: pointer;\n",
              "      display: none;\n",
              "      fill: #1967D2;\n",
              "      height: 32px;\n",
              "      padding: 0 0 0 0;\n",
              "      width: 32px;\n",
              "    }\n",
              "\n",
              "    .colab-df-convert:hover {\n",
              "      background-color: #E2EBFA;\n",
              "      box-shadow: 0px 1px 2px rgba(60, 64, 67, 0.3), 0px 1px 3px 1px rgba(60, 64, 67, 0.15);\n",
              "      fill: #174EA6;\n",
              "    }\n",
              "\n",
              "    [theme=dark] .colab-df-convert {\n",
              "      background-color: #3B4455;\n",
              "      fill: #D2E3FC;\n",
              "    }\n",
              "\n",
              "    [theme=dark] .colab-df-convert:hover {\n",
              "      background-color: #434B5C;\n",
              "      box-shadow: 0px 1px 3px 1px rgba(0, 0, 0, 0.15);\n",
              "      filter: drop-shadow(0px 1px 2px rgba(0, 0, 0, 0.3));\n",
              "      fill: #FFFFFF;\n",
              "    }\n",
              "  </style>\n",
              "\n",
              "      <script>\n",
              "        const buttonEl =\n",
              "          document.querySelector('#df-b7521ccb-8625-48f6-b636-4c1765831cdd button.colab-df-convert');\n",
              "        buttonEl.style.display =\n",
              "          google.colab.kernel.accessAllowed ? 'block' : 'none';\n",
              "\n",
              "        async function convertToInteractive(key) {\n",
              "          const element = document.querySelector('#df-b7521ccb-8625-48f6-b636-4c1765831cdd');\n",
              "          const dataTable =\n",
              "            await google.colab.kernel.invokeFunction('convertToInteractive',\n",
              "                                                     [key], {});\n",
              "          if (!dataTable) return;\n",
              "\n",
              "          const docLinkHtml = 'Like what you see? Visit the ' +\n",
              "            '<a target=\"_blank\" href=https://colab.research.google.com/notebooks/data_table.ipynb>data table notebook</a>'\n",
              "            + ' to learn more about interactive tables.';\n",
              "          element.innerHTML = '';\n",
              "          dataTable['output_type'] = 'display_data';\n",
              "          await google.colab.output.renderOutput(dataTable, element);\n",
              "          const docLink = document.createElement('div');\n",
              "          docLink.innerHTML = docLinkHtml;\n",
              "          element.appendChild(docLink);\n",
              "        }\n",
              "      </script>\n",
              "    </div>\n",
              "  </div>\n",
              "  "
            ],
            "text/plain": [
              "  J-P  expected\n",
              "0   J  4710.525\n",
              "1   P  3990.500"
            ]
          },
          "execution_count": 19,
          "metadata": {},
          "output_type": "execute_result"
        }
      ],
      "source": [
        "expected_JP"
      ]
    },
    {
      "cell_type": "code",
      "execution_count": null,
      "metadata": {
        "colab": {
          "base_uri": "https://localhost:8080/",
          "height": 112
        },
        "id": "xrA9w_18pfUM",
        "outputId": "50813d3d-fa38-437e-f86c-666de9507d38"
      },
      "outputs": [
        {
          "data": {
            "text/html": [
              "\n",
              "  <div id=\"df-8f175cf3-3835-4900-a653-f8163d88945b\">\n",
              "    <div class=\"colab-df-container\">\n",
              "      <div>\n",
              "<style scoped>\n",
              "    .dataframe tbody tr th:only-of-type {\n",
              "        vertical-align: middle;\n",
              "    }\n",
              "\n",
              "    .dataframe tbody tr th {\n",
              "        vertical-align: top;\n",
              "    }\n",
              "\n",
              "    .dataframe thead th {\n",
              "        text-align: right;\n",
              "    }\n",
              "</style>\n",
              "<table border=\"1\" class=\"dataframe\">\n",
              "  <thead>\n",
              "    <tr style=\"text-align: right;\">\n",
              "      <th></th>\n",
              "      <th>J-P</th>\n",
              "      <th>counts</th>\n",
              "    </tr>\n",
              "  </thead>\n",
              "  <tbody>\n",
              "    <tr>\n",
              "      <th>0</th>\n",
              "      <td>J</td>\n",
              "      <td>3434</td>\n",
              "    </tr>\n",
              "    <tr>\n",
              "      <th>1</th>\n",
              "      <td>P</td>\n",
              "      <td>5241</td>\n",
              "    </tr>\n",
              "  </tbody>\n",
              "</table>\n",
              "</div>\n",
              "      <button class=\"colab-df-convert\" onclick=\"convertToInteractive('df-8f175cf3-3835-4900-a653-f8163d88945b')\"\n",
              "              title=\"Convert this dataframe to an interactive table.\"\n",
              "              style=\"display:none;\">\n",
              "        \n",
              "  <svg xmlns=\"http://www.w3.org/2000/svg\" height=\"24px\"viewBox=\"0 0 24 24\"\n",
              "       width=\"24px\">\n",
              "    <path d=\"M0 0h24v24H0V0z\" fill=\"none\"/>\n",
              "    <path d=\"M18.56 5.44l.94 2.06.94-2.06 2.06-.94-2.06-.94-.94-2.06-.94 2.06-2.06.94zm-11 1L8.5 8.5l.94-2.06 2.06-.94-2.06-.94L8.5 2.5l-.94 2.06-2.06.94zm10 10l.94 2.06.94-2.06 2.06-.94-2.06-.94-.94-2.06-.94 2.06-2.06.94z\"/><path d=\"M17.41 7.96l-1.37-1.37c-.4-.4-.92-.59-1.43-.59-.52 0-1.04.2-1.43.59L10.3 9.45l-7.72 7.72c-.78.78-.78 2.05 0 2.83L4 21.41c.39.39.9.59 1.41.59.51 0 1.02-.2 1.41-.59l7.78-7.78 2.81-2.81c.8-.78.8-2.07 0-2.86zM5.41 20L4 18.59l7.72-7.72 1.47 1.35L5.41 20z\"/>\n",
              "  </svg>\n",
              "      </button>\n",
              "      \n",
              "  <style>\n",
              "    .colab-df-container {\n",
              "      display:flex;\n",
              "      flex-wrap:wrap;\n",
              "      gap: 12px;\n",
              "    }\n",
              "\n",
              "    .colab-df-convert {\n",
              "      background-color: #E8F0FE;\n",
              "      border: none;\n",
              "      border-radius: 50%;\n",
              "      cursor: pointer;\n",
              "      display: none;\n",
              "      fill: #1967D2;\n",
              "      height: 32px;\n",
              "      padding: 0 0 0 0;\n",
              "      width: 32px;\n",
              "    }\n",
              "\n",
              "    .colab-df-convert:hover {\n",
              "      background-color: #E2EBFA;\n",
              "      box-shadow: 0px 1px 2px rgba(60, 64, 67, 0.3), 0px 1px 3px 1px rgba(60, 64, 67, 0.15);\n",
              "      fill: #174EA6;\n",
              "    }\n",
              "\n",
              "    [theme=dark] .colab-df-convert {\n",
              "      background-color: #3B4455;\n",
              "      fill: #D2E3FC;\n",
              "    }\n",
              "\n",
              "    [theme=dark] .colab-df-convert:hover {\n",
              "      background-color: #434B5C;\n",
              "      box-shadow: 0px 1px 3px 1px rgba(0, 0, 0, 0.15);\n",
              "      filter: drop-shadow(0px 1px 2px rgba(0, 0, 0, 0.3));\n",
              "      fill: #FFFFFF;\n",
              "    }\n",
              "  </style>\n",
              "\n",
              "      <script>\n",
              "        const buttonEl =\n",
              "          document.querySelector('#df-8f175cf3-3835-4900-a653-f8163d88945b button.colab-df-convert');\n",
              "        buttonEl.style.display =\n",
              "          google.colab.kernel.accessAllowed ? 'block' : 'none';\n",
              "\n",
              "        async function convertToInteractive(key) {\n",
              "          const element = document.querySelector('#df-8f175cf3-3835-4900-a653-f8163d88945b');\n",
              "          const dataTable =\n",
              "            await google.colab.kernel.invokeFunction('convertToInteractive',\n",
              "                                                     [key], {});\n",
              "          if (!dataTable) return;\n",
              "\n",
              "          const docLinkHtml = 'Like what you see? Visit the ' +\n",
              "            '<a target=\"_blank\" href=https://colab.research.google.com/notebooks/data_table.ipynb>data table notebook</a>'\n",
              "            + ' to learn more about interactive tables.';\n",
              "          element.innerHTML = '';\n",
              "          dataTable['output_type'] = 'display_data';\n",
              "          await google.colab.output.renderOutput(dataTable, element);\n",
              "          const docLink = document.createElement('div');\n",
              "          docLink.innerHTML = docLinkHtml;\n",
              "          element.appendChild(docLink);\n",
              "        }\n",
              "      </script>\n",
              "    </div>\n",
              "  </div>\n",
              "  "
            ],
            "text/plain": [
              "  J-P  counts\n",
              "0   J    3434\n",
              "1   P    5241"
            ]
          },
          "execution_count": 20,
          "metadata": {},
          "output_type": "execute_result"
        }
      ],
      "source": [
        "actual_JP"
      ]
    },
    {
      "cell_type": "code",
      "execution_count": null,
      "metadata": {
        "colab": {
          "base_uri": "https://localhost:8080/",
          "height": 551
        },
        "id": "TqUB_fjpj4sh",
        "outputId": "6cbae331-a7d1-41ce-db96-f9b9ea182440"
      },
      "outputs": [
        {
          "data": {
            "text/html": [
              "\n",
              "  <div id=\"df-9734e9af-c812-41b3-88b8-7406dce1d763\">\n",
              "    <div class=\"colab-df-container\">\n",
              "      <div>\n",
              "<style scoped>\n",
              "    .dataframe tbody tr th:only-of-type {\n",
              "        vertical-align: middle;\n",
              "    }\n",
              "\n",
              "    .dataframe tbody tr th {\n",
              "        vertical-align: top;\n",
              "    }\n",
              "\n",
              "    .dataframe thead th {\n",
              "        text-align: right;\n",
              "    }\n",
              "</style>\n",
              "<table border=\"1\" class=\"dataframe\">\n",
              "  <thead>\n",
              "    <tr style=\"text-align: right;\">\n",
              "      <th></th>\n",
              "      <th>Personality Type</th>\n",
              "      <th>expected</th>\n",
              "      <th>I-E</th>\n",
              "      <th>N-S</th>\n",
              "      <th>T-F</th>\n",
              "      <th>J-P</th>\n",
              "    </tr>\n",
              "  </thead>\n",
              "  <tbody>\n",
              "    <tr>\n",
              "      <th>0</th>\n",
              "      <td>ISFJ</td>\n",
              "      <td>1197.150</td>\n",
              "      <td>I</td>\n",
              "      <td>S</td>\n",
              "      <td>F</td>\n",
              "      <td>J</td>\n",
              "    </tr>\n",
              "    <tr>\n",
              "      <th>1</th>\n",
              "      <td>ESFJ</td>\n",
              "      <td>1067.025</td>\n",
              "      <td>E</td>\n",
              "      <td>S</td>\n",
              "      <td>F</td>\n",
              "      <td>J</td>\n",
              "    </tr>\n",
              "    <tr>\n",
              "      <th>2</th>\n",
              "      <td>ISTJ</td>\n",
              "      <td>1006.300</td>\n",
              "      <td>I</td>\n",
              "      <td>S</td>\n",
              "      <td>T</td>\n",
              "      <td>J</td>\n",
              "    </tr>\n",
              "    <tr>\n",
              "      <th>3</th>\n",
              "      <td>ISFP</td>\n",
              "      <td>763.400</td>\n",
              "      <td>I</td>\n",
              "      <td>S</td>\n",
              "      <td>F</td>\n",
              "      <td>P</td>\n",
              "    </tr>\n",
              "    <tr>\n",
              "      <th>4</th>\n",
              "      <td>ESTJ</td>\n",
              "      <td>754.725</td>\n",
              "      <td>E</td>\n",
              "      <td>S</td>\n",
              "      <td>T</td>\n",
              "      <td>J</td>\n",
              "    </tr>\n",
              "    <tr>\n",
              "      <th>5</th>\n",
              "      <td>ESFP</td>\n",
              "      <td>737.375</td>\n",
              "      <td>E</td>\n",
              "      <td>S</td>\n",
              "      <td>F</td>\n",
              "      <td>P</td>\n",
              "    </tr>\n",
              "    <tr>\n",
              "      <th>6</th>\n",
              "      <td>ENFP</td>\n",
              "      <td>702.675</td>\n",
              "      <td>E</td>\n",
              "      <td>N</td>\n",
              "      <td>F</td>\n",
              "      <td>P</td>\n",
              "    </tr>\n",
              "    <tr>\n",
              "      <th>7</th>\n",
              "      <td>ISTP</td>\n",
              "      <td>468.450</td>\n",
              "      <td>I</td>\n",
              "      <td>S</td>\n",
              "      <td>T</td>\n",
              "      <td>P</td>\n",
              "    </tr>\n",
              "    <tr>\n",
              "      <th>8</th>\n",
              "      <td>INFP</td>\n",
              "      <td>381.700</td>\n",
              "      <td>I</td>\n",
              "      <td>N</td>\n",
              "      <td>F</td>\n",
              "      <td>P</td>\n",
              "    </tr>\n",
              "    <tr>\n",
              "      <th>9</th>\n",
              "      <td>ESTP</td>\n",
              "      <td>373.025</td>\n",
              "      <td>E</td>\n",
              "      <td>S</td>\n",
              "      <td>T</td>\n",
              "      <td>P</td>\n",
              "    </tr>\n",
              "    <tr>\n",
              "      <th>10</th>\n",
              "      <td>INTP</td>\n",
              "      <td>286.275</td>\n",
              "      <td>I</td>\n",
              "      <td>N</td>\n",
              "      <td>T</td>\n",
              "      <td>P</td>\n",
              "    </tr>\n",
              "    <tr>\n",
              "      <th>11</th>\n",
              "      <td>ENTP</td>\n",
              "      <td>277.600</td>\n",
              "      <td>E</td>\n",
              "      <td>N</td>\n",
              "      <td>T</td>\n",
              "      <td>P</td>\n",
              "    </tr>\n",
              "    <tr>\n",
              "      <th>12</th>\n",
              "      <td>ENFJ</td>\n",
              "      <td>216.875</td>\n",
              "      <td>E</td>\n",
              "      <td>N</td>\n",
              "      <td>F</td>\n",
              "      <td>J</td>\n",
              "    </tr>\n",
              "    <tr>\n",
              "      <th>13</th>\n",
              "      <td>INTJ</td>\n",
              "      <td>182.175</td>\n",
              "      <td>I</td>\n",
              "      <td>N</td>\n",
              "      <td>T</td>\n",
              "      <td>J</td>\n",
              "    </tr>\n",
              "    <tr>\n",
              "      <th>14</th>\n",
              "      <td>ENTJ</td>\n",
              "      <td>156.150</td>\n",
              "      <td>E</td>\n",
              "      <td>N</td>\n",
              "      <td>T</td>\n",
              "      <td>J</td>\n",
              "    </tr>\n",
              "    <tr>\n",
              "      <th>15</th>\n",
              "      <td>INFJ</td>\n",
              "      <td>130.125</td>\n",
              "      <td>I</td>\n",
              "      <td>N</td>\n",
              "      <td>F</td>\n",
              "      <td>J</td>\n",
              "    </tr>\n",
              "  </tbody>\n",
              "</table>\n",
              "</div>\n",
              "      <button class=\"colab-df-convert\" onclick=\"convertToInteractive('df-9734e9af-c812-41b3-88b8-7406dce1d763')\"\n",
              "              title=\"Convert this dataframe to an interactive table.\"\n",
              "              style=\"display:none;\">\n",
              "        \n",
              "  <svg xmlns=\"http://www.w3.org/2000/svg\" height=\"24px\"viewBox=\"0 0 24 24\"\n",
              "       width=\"24px\">\n",
              "    <path d=\"M0 0h24v24H0V0z\" fill=\"none\"/>\n",
              "    <path d=\"M18.56 5.44l.94 2.06.94-2.06 2.06-.94-2.06-.94-.94-2.06-.94 2.06-2.06.94zm-11 1L8.5 8.5l.94-2.06 2.06-.94-2.06-.94L8.5 2.5l-.94 2.06-2.06.94zm10 10l.94 2.06.94-2.06 2.06-.94-2.06-.94-.94-2.06-.94 2.06-2.06.94z\"/><path d=\"M17.41 7.96l-1.37-1.37c-.4-.4-.92-.59-1.43-.59-.52 0-1.04.2-1.43.59L10.3 9.45l-7.72 7.72c-.78.78-.78 2.05 0 2.83L4 21.41c.39.39.9.59 1.41.59.51 0 1.02-.2 1.41-.59l7.78-7.78 2.81-2.81c.8-.78.8-2.07 0-2.86zM5.41 20L4 18.59l7.72-7.72 1.47 1.35L5.41 20z\"/>\n",
              "  </svg>\n",
              "      </button>\n",
              "      \n",
              "  <style>\n",
              "    .colab-df-container {\n",
              "      display:flex;\n",
              "      flex-wrap:wrap;\n",
              "      gap: 12px;\n",
              "    }\n",
              "\n",
              "    .colab-df-convert {\n",
              "      background-color: #E8F0FE;\n",
              "      border: none;\n",
              "      border-radius: 50%;\n",
              "      cursor: pointer;\n",
              "      display: none;\n",
              "      fill: #1967D2;\n",
              "      height: 32px;\n",
              "      padding: 0 0 0 0;\n",
              "      width: 32px;\n",
              "    }\n",
              "\n",
              "    .colab-df-convert:hover {\n",
              "      background-color: #E2EBFA;\n",
              "      box-shadow: 0px 1px 2px rgba(60, 64, 67, 0.3), 0px 1px 3px 1px rgba(60, 64, 67, 0.15);\n",
              "      fill: #174EA6;\n",
              "    }\n",
              "\n",
              "    [theme=dark] .colab-df-convert {\n",
              "      background-color: #3B4455;\n",
              "      fill: #D2E3FC;\n",
              "    }\n",
              "\n",
              "    [theme=dark] .colab-df-convert:hover {\n",
              "      background-color: #434B5C;\n",
              "      box-shadow: 0px 1px 3px 1px rgba(0, 0, 0, 0.15);\n",
              "      filter: drop-shadow(0px 1px 2px rgba(0, 0, 0, 0.3));\n",
              "      fill: #FFFFFF;\n",
              "    }\n",
              "  </style>\n",
              "\n",
              "      <script>\n",
              "        const buttonEl =\n",
              "          document.querySelector('#df-9734e9af-c812-41b3-88b8-7406dce1d763 button.colab-df-convert');\n",
              "        buttonEl.style.display =\n",
              "          google.colab.kernel.accessAllowed ? 'block' : 'none';\n",
              "\n",
              "        async function convertToInteractive(key) {\n",
              "          const element = document.querySelector('#df-9734e9af-c812-41b3-88b8-7406dce1d763');\n",
              "          const dataTable =\n",
              "            await google.colab.kernel.invokeFunction('convertToInteractive',\n",
              "                                                     [key], {});\n",
              "          if (!dataTable) return;\n",
              "\n",
              "          const docLinkHtml = 'Like what you see? Visit the ' +\n",
              "            '<a target=\"_blank\" href=https://colab.research.google.com/notebooks/data_table.ipynb>data table notebook</a>'\n",
              "            + ' to learn more about interactive tables.';\n",
              "          element.innerHTML = '';\n",
              "          dataTable['output_type'] = 'display_data';\n",
              "          await google.colab.output.renderOutput(dataTable, element);\n",
              "          const docLink = document.createElement('div');\n",
              "          docLink.innerHTML = docLinkHtml;\n",
              "          element.appendChild(docLink);\n",
              "        }\n",
              "      </script>\n",
              "    </div>\n",
              "  </div>\n",
              "  "
            ],
            "text/plain": [
              "   Personality Type  expected I-E N-S T-F J-P\n",
              "0              ISFJ  1197.150   I   S   F   J\n",
              "1              ESFJ  1067.025   E   S   F   J\n",
              "2              ISTJ  1006.300   I   S   T   J\n",
              "3              ISFP   763.400   I   S   F   P\n",
              "4              ESTJ   754.725   E   S   T   J\n",
              "5              ESFP   737.375   E   S   F   P\n",
              "6              ENFP   702.675   E   N   F   P\n",
              "7              ISTP   468.450   I   S   T   P\n",
              "8              INFP   381.700   I   N   F   P\n",
              "9              ESTP   373.025   E   S   T   P\n",
              "10             INTP   286.275   I   N   T   P\n",
              "11             ENTP   277.600   E   N   T   P\n",
              "12             ENFJ   216.875   E   N   F   J\n",
              "13             INTJ   182.175   I   N   T   J\n",
              "14             ENTJ   156.150   E   N   T   J\n",
              "15             INFJ   130.125   I   N   F   J"
            ]
          },
          "execution_count": 21,
          "metadata": {},
          "output_type": "execute_result"
        }
      ],
      "source": [
        "MBTI_population"
      ]
    },
    {
      "cell_type": "code",
      "execution_count": null,
      "metadata": {
        "id": "iXbyUzGDHWky"
      },
      "outputs": [],
      "source": [
        "def show_subplot(expected, actual,title, axs=None):\n",
        "    axs = axs or plt.gca()\n",
        "    index = np.arange(2)\n",
        "    bar_width = 0.35\n",
        "    axs.bar(index, actual[\"counts\"], bar_width,\n",
        "                    label=\"Actual\")\n",
        "    axs.bar(index+bar_width, expected[\"expected\"],\n",
        "                    bar_width, label=\"Expected\")\n",
        "    axs.set_xticks(index + bar_width / 2)\n",
        "    axs.set_xticklabels(expected[expected.columns[0]].tolist())\n",
        "    axs.set_title(title, size=20)\n",
        "    return axs"
      ]
    },
    {
      "cell_type": "code",
      "execution_count": null,
      "metadata": {
        "colab": {
          "base_uri": "https://localhost:8080/",
          "height": 657
        },
        "id": "kvTR29dcSLwY",
        "outputId": "7541f198-dba6-4476-82c9-a8b3b7d3a585"
      },
      "outputs": [
        {
          "name": "stderr",
          "output_type": "stream",
          "text": [
            "/usr/local/lib/python3.7/dist-packages/ipykernel_launcher.py:8: MatplotlibDeprecationWarning: Automatic legend placement (loc='best') not implemented for figure legend. Falling back on 'upper right'. This will raise an exception in 3.3.\n",
            "  \n"
          ]
        },
        {
          "data": {
            "text/plain": [
              "Text(0.04, 0.5, 'Count of Users')"
            ]
          },
          "execution_count": 24,
          "metadata": {},
          "output_type": "execute_result"
        },
        {
          "data": {
            "image/png": "[encoded data removed]",
            "text/plain": [
              "<Figure size 576x576 with 4 Axes>"
            ]
          },
          "metadata": {},
          "output_type": "display_data"
        }
      ],
      "source": [
        "fig, axs = plt.subplots(2, 2, figsize=(8,8))\n",
        "show_subplot(expected_EI, actual_E1, axs=axs[0, 0], title=\"E-I\")\n",
        "show_subplot(expected_NS, actual_NS, axs=axs[0, 1], title=\"N-S\")\n",
        "show_subplot(expected_TF, actual_TF, axs=axs[1, 0], title=\"F-T\")\n",
        "show_subplot(expected_JP, actual_JP, axs=axs[1, 1], title= \"J-P\")\n",
        "fig.suptitle(\"Actual vs Expected Distrubtion\",  size=20)\n",
        "handles, labels = ax.get_legend_handles_labels()\n",
        "fig.legend(handles, labels, loc='best')\n",
        "fig.text(0.5, 0.04, \"Personality Type\", ha='center', fontsize=18)\n",
        "fig.text(0.04, 0.5, \"Count of Users\", va='center', rotation='vertical', fontsize=18)"
      ]
    },
    {
      "cell_type": "markdown",
      "metadata": {
        "id": "QzLAO5a25qzS"
      },
      "source": [
        "## 1.2. Preprocess data"
      ]
    },
    {
      "cell_type": "code",
      "execution_count": null,
      "metadata": {
        "colab": {
          "base_uri": "https://localhost:8080/"
        },
        "id": "U6bgarLA3LPM",
        "outputId": "b358ac90-c980-4a8b-ca9c-1b1580040a7d"
      },
      "outputs": [
        {
          "output_type": "stream",
          "name": "stdout",
          "text": [
            "Looking in indexes: https://pypi.org/simple, https://us-python.pkg.dev/colab-wheels/public/simple/\n",
            "Collecting contractions\n",
            "  Downloading contractions-0.1.72-py2.py3-none-any.whl (8.3 kB)\n",
            "Collecting textsearch>=0.0.21\n",
            "  Downloading textsearch-0.0.21-py2.py3-none-any.whl (7.5 kB)\n",
            "Collecting anyascii\n",
            "  Downloading anyascii-0.3.1-py3-none-any.whl (287 kB)\n",
            "\u001b[K     |████████████████████████████████| 287 kB 15.9 MB/s \n",
            "\u001b[?25hCollecting pyahocorasick\n",
            "  Downloading pyahocorasick-1.4.4-cp37-cp37m-manylinux_2_17_x86_64.manylinux2014_x86_64.whl (106 kB)\n",
            "\u001b[K     |████████████████████████████████| 106 kB 41.9 MB/s \n",
            "\u001b[?25hInstalling collected packages: pyahocorasick, anyascii, textsearch, contractions\n",
            "Successfully installed anyascii-0.3.1 contractions-0.1.72 pyahocorasick-1.4.4 textsearch-0.0.21\n"
          ]
        }
      ],
      "source": [
        "!pip install contractions"
      ]
    },
    {
      "cell_type": "code",
      "execution_count": null,
      "metadata": {
        "colab": {
          "base_uri": "https://localhost:8080/"
        },
        "id": "hpf6HNEkHTR9",
        "outputId": "2252d2b3-7aa7-4910-d3dc-f1c6573a2fad"
      },
      "outputs": [
        {
          "output_type": "stream",
          "name": "stderr",
          "text": [
            "[nltk_data] Downloading package stopwords to /root/nltk_data...\n",
            "[nltk_data]   Unzipping corpora/stopwords.zip.\n",
            "[nltk_data] Downloading package punkt to /root/nltk_data...\n",
            "[nltk_data]   Unzipping tokenizers/punkt.zip.\n",
            "[nltk_data] Downloading package wordnet to /root/nltk_data...\n",
            "[nltk_data] Downloading package omw-1.4 to /root/nltk_data...\n"
          ]
        }
      ],
      "source": [
        "# This can take some time to run\n",
        "import contractions\n",
        "import re\n",
        "import nltk\n",
        "from nltk.tokenize import word_tokenize\n",
        "from nltk.corpus import stopwords as sw\n",
        "nltk.download('stopwords')\n",
        "nltk.download('punkt')\n",
        "nltk.download('wordnet')\n",
        "nltk.download('omw-1.4')\n",
        "sww = sw.words()\n",
        "\n",
        "from nltk.stem import WordNetLemmatizer\n",
        "wnl = WordNetLemmatizer()\n",
        "def apply_lemmatization(text): return [wnl.lemmatize(w) for w in text]\n",
        "\n",
        "def clean_posts(df, old_column = \"posts\", column_name = \"cleaned_post\"):\n",
        "  df[column_name] = df[old_column].apply(lambda x: contractions.fix(x))\n",
        "  df[column_name] = df[column_name].apply(lambda x: x.lower())\n",
        "  df[column_name] = df[column_name].apply(lambda x: re.sub(r'@([a-zA-Z0-9_]{1,50})', '', x))\n",
        "  df[column_name] = df[column_name].apply(lambda x: re.sub(r'#([a-zA-Z0-9_]{1,50})', '', x))\n",
        "  df[column_name] = df[column_name].apply(lambda x: re.sub(r'http[s]?://\\S+', '', x))\n",
        "  df[column_name] = df[column_name].apply(lambda x: re.sub(r'[^A-Za-z]+', ' ', x))\n",
        "  df[column_name] = df[column_name].apply(lambda x: re.sub(r' +', ' ', x))\n",
        "  pattern = re.compile(r'\\b({})\\b'.format('|'.join(sww)))\n",
        "  df[column_name] = df[column_name].apply(lambda x: re.sub('\\s+', ' ', re.sub(pattern, '', x)).strip())\n",
        "  df[column_name] = df[column_name].apply(lambda x: word_tokenize(x))\n",
        "  # df[column_name] = df[column_name].apply(apply_lemmatization)\n",
        "  return df\n",
        "\n",
        "training_data = clean_posts(training_data)\n",
        "testing_data = clean_posts(testing_data)"
      ]
    },
    {
      "cell_type": "code",
      "execution_count": null,
      "metadata": {
        "colab": {
          "base_uri": "https://localhost:8080/",
          "height": 126
        },
        "id": "cHHSy7UEbu25",
        "outputId": "2b27e7f5-fce8-44c2-f001-94a07cea122b"
      },
      "outputs": [
        {
          "data": {
            "application/vnd.google.colaboratory.intrinsic+json": {
              "type": "string"
            },
            "text/plain": [
              "\"'18/37 @.@|||Science  is not perfect. No scientist claims that it is, or that scientific  information will not be revised as we discover new things.  Rational  thinking has been very useful to our society....|||INFP- Edgar Allen Poe was an INFP and he's in your siggy.|||People see the obvious Fi and are quick to put her as INFP. I agree that she has no Ne. I see her as an ISFP. Compare her to Haku (definite INFP). She is flat through most of Naruto.. but I don't...|||Lets get this party started  66314|||I did not say it disproved God. I merely said that I found such methods disturbing. Although, it does bring up certain questions. God is in control of the universe, and the governments of the world,...|||Surprisingly, I could not find a thread about this on perc even with Google. So, here you go.  Watch Jesus Camp online - Watch Movies Online, Full Movies, Download  I was disturbed watching this...|||A metaphysical gun (Hell) held to someone's head can be just as effective as an actual gun.  Do you not find these methods disturbing? Watch Jesus Camp online - Watch Movies Online, Full Movies,...|||Unstable is not the right word. We are usually pretty emotionally flat-lined. But, when we do have to deal with our own emotions we can be very bad at it. In high school my feelings of attraction...|||Well, I went to someone's wedding and dipped everything in the chocolate fountain and ate it. I dipped the fruit, the fish, and even the Hershey's kisses. And I drank two little jars of honey they...|||That post you  quoted was from two and a half years ago. Since then, I've come to a better explanation.  INTPs may not be as externally certain as INTJs, but they are more certain internally. They...|||This is how I deal with the INFP I'm in a relationship with.  I am often tempted to avoid hurting them even if it means fudging the truth, telling them only what they want to hear. If I do that, it...|||Never heard of it till now. I watch a loooot of anime, but I get it from animedreaming.tv mostly; I am not a member of any anime board.|||The legs are nice, but her expression is all wrong. That is not her private sad face; I don't know what it is. See, I have her evil grin <B|||Kokiri Connect. Becuase I couldn't rememeber how to spell Kokoro Connect so I let Google do it.|||Inaba from Kokoro Connect. Because I relate to her and I enjoy looking at her (I have to look at my avatar alot).|||I'd like to see someone react when they are told they have   hippopotomonstrosesquipedaliophobia.|||She doesn't trust you or respect you. A break would be good to test if she will change. If she doesn't, you have to think about what will make you happy in the long term. Next time, establish ground...|||I don't think any INTJ is not going to do this if they have a choice. Though, until I got the internet in my late teens I didn't explore many subjects I was interested in in depth. Of course, it...|||No, I don't smoke. I have an addictive personality, and I don't think I would be able to stop if I started.|||Destroying his reputation by revealing what he has done could cause him to lose a lot of power... but if people knew things he had done, a certain person would kill him and end up in jail.   There...|||People like people like themselves; this is the number 1 indicator of attraction. Seeing as most people are sensors it is not surprising that they do not care for my personality.  Woman have...|||My best friend is an INTJ. We have so much in common even for two INTJs; she understands me better than anyone. It took a loooong time for us to become close. We put up a lot of barriers.  I get...|||I can tell you about a sociopath I know in real life. Not an INTJ, an ENTP or INTP.  -Tells all his problems to people shortly after meeting them to attempt to gain their sympathy so they can be...|||Light (at least in the beggning) and Lelouch did ultimately have good goals, even if their methods were evil.  Lelouch did seem to feel remorse at times; a sociopath would never consider taking...|||Nobody panics when things go  according to plan. Even if the plan is horrifying. If tomorrow I tell  the press that like a gang banger, will get shot, or a truckload of  soldiers will be blown up,...|||1. Code Geass  2. Steins; Gate (It was hardest to pick between this and Geass, but I  think Geass just barely beats it. I will say it is very slow in the  beginning, but everything that happens in...|||Looking back at this post from 2.5 years ago... Emil, Asahina, and Hinata are actually ISFPs. Maybe Kimmimaro and Alphonse as well.  I really don't know Li Xingke's type... its been awhile since I...|||Focus on learning the system, and the details should fall into place as you go along. For example, learning C++, I read about how it worked, then wrote some programs and only bothered figuring out...|||glad you recognize my username.   Yes, until you said INFJ (that type uses Fe/Ti). The four types that use (Fi&Te)/(Te&Fi) are in my previous post.|||INFP- Going out with one now. We don't understand each other in some ways (though understanding is a lot better than most type matches), but we challenge each other and help each other grow. We have...|||Welcome. Now bring me some Pizza.   Actually, that could happen to me after I'm done with my English degree XD|||You need to think about the reasons for what you want and about how realistic each of your goals are. Maybe one is more of a fantasy and one is actually worthwhile? That's what I would do anyway,...|||What my previous post said was: you seem like a dominant Fi. Do you do all this Ne thing or this FiNe thing. Put into terms that the OP understands.   The 8 letters are intended to be shorthand for...|||You seem like an obvious I, F, and P. INFP is the strongest possibility. Possibly ISFP, though. How do you brainstorm? Do you overthink things?|||Combining your anxiety and avoidance scores, you fall      into the secure quadrant.  Previous research on attachment styles indicates that     secure people tend to have relatively enduring and...|||I don't think you can simply reach into your mind anytime to tell if you love someone.   Perhaps you have fantasized for a long time and expect a real relationship to be like that in some ways. But...|||I don't think its impossible to doublethink, only impossible to remain in that state (which could explain why oceania fell after the end).  The hard atheists I do not disagree with. Anyway,...|||Cows are a religious subject (Hindu) XD   If the denial of a religion is a religion, then most or all of us here are ascientologists, for example. Most everyone would have, what? at least thousands...|||By that definition anything could be defined as a religion by attaching the suffix -ism... and then the word religion loses its meaning. I would say that religion has both a precise and general...|||There are no practices required to be an atheist. All that is required is a disbelief in deities. Other than that, atheists can have widely different beliefs. It is too general a term to be called a...|||My guess is ENTP, though it is hard to say just from this.  Have you studied up on cognitive functions? If not, learning how each works and identifying which ones you use would be very helpful.|||I believe it has gone  through too many human hands to be thought of wholly as the word of God  (or to be followed unquestionably). Yes, most useful when thought of as  a text by man about God.  ...|||Apparently, you need to pose as a gay guy to pick up women.  But, seriously. Its 2012. You have a world of media at your fingertips. In a poll that appears to be from eHarmony (though it is...|||We are playing a game called Mafia. We have to vote on who to kill for this round, who we think is part of the Mafia. Rob (names made up) says, kill Joe.  I suggest killing Rob. Rob says, Don't...|||what you need to know as an INTJ fiction writer: http://phantomshine.blogspot.com/2012/05/writer-analysis-through-mbti.html   I grow tedious of gratuitous visual details... though, images are...|||Bolded are ones I actually live with.  Mother- ISFJ Father- ISTJ Sister- ISTP Half-Sister- ESFJ? Grand-mother (mother's side)- ENFP Step-brother-ESFP Step-father- ESFP?|||Very interesting. Explains why these two types often see each other as close-minded or arrogant.|||There are as many INTJs as there needs to be. If everyone is a leader, who is going to follow? And who is going to take the jobs that no intuitive would want? There is a part in Brave New World where...|||Mm, probably INTP now that I have become more familiar with that type.'\""
            ]
          },
          "execution_count": 8,
          "metadata": {},
          "output_type": "execute_result"
        }
      ],
      "source": [
        "# Before cleaning\n",
        "training_data.loc[5, \"posts\"]"
      ]
    },
    {
      "cell_type": "code",
      "execution_count": null,
      "metadata": {
        "colab": {
          "base_uri": "https://localhost:8080/",
          "height": 126
        },
        "id": "0E2dIMZ146NQ",
        "outputId": "7c1d46d6-897f-4393-db6e-ee1d62dbec9d"
      },
      "outputs": [
        {
          "data": {
            "application/vnd.google.colaboratory.intrinsic+json": {
              "type": "string"
            },
            "text/plain": [
              "'science perfect scientist claims scientific information revised discover things rational society infp edgar poe infp siggy obvious quick put infp agree isfp compare haku definite infp flat naruto party started disproved god found methods disturbing bring questions god control universe governments world surprisingly find thread perc google watch jesus camp online watch movies online full movies download disturbed watching metaphysical gun hell held head effective actual gun find methods disturbing watch jesus camp online watch movies online full movies unstable word pretty emotionally flat lined deal emotions high school feelings attraction wedding dipped chocolate fountain ate dipped fruit fish hershey kisses drank jars honey post quoted half years ago explanation intps externally intjs internally deal infp relationship tempted avoid hurting means fudging truth telling hear heard watch loooot anime animedreaming tv member anime board legs nice expression wrong private sad evil grin b kokiri connect becuase rememeber spell kokoro connect google inaba kokoro connect relate enjoy avatar alot react told hippopotomonstrosesquipedaliophobia trust respect break test change make happy long term time establish ground intj choice internet late teens explore subjects interested depth course smoke addictive personality stop started destroying reputation revealing lose lot power knew things person kill jail number indicator attraction sensors surprising personality woman friend intj common intjs understands loooong time close put lot barriers sociopath real life intj entp intp tells problems shortly meeting attempt sympathy light beggning lelouch ultimately goals methods evil lelouch feel remorse times sociopath consider taking panics things plan plan horrifying tomorrow press gang banger shot truckload soldiers blown code geass steins gate hardest pick geass geass barely beats slow beginning back post years ago emil asahina hinata isfps kimmimaro alphonse xingke type awhile focus learning system details fall place learning read worked wrote programs bothered figuring glad recognize username infj type fe types previous post infp understand ways understanding lot type matches challenge grow welcome bring pizza happen english degree xd reasons realistic goals fantasy worthwhile previous post dominant fine put terms understands letters intended shorthand obvious f p infp strongest possibility possibly isfp brainstorm overthink things combining anxiety avoidance scores fall secure quadrant previous research attachment styles indicates secure tend relatively enduring simply reach mind anytime love fantasized long time expect real relationship ways impossible doublethink impossible remain state explain oceania fell hard atheists disagree cows religious subject hindu xd denial religion religion ascientologists thousands definition defined religion attaching suffix ism word religion loses meaning religion precise general practices required atheist required disbelief deities atheists widely different beliefs general term called guess entp hard studied cognitive functions learning works identifying helpful believe human hands wholly word god unquestionably text god apparently pose gay guy pick women world media fingertips poll appears eharmony playing game called mafia vote kill round part mafia rob names made kill joe suggest killing rob rob intj fiction writer grow tedious gratuitous visual details images bolded live mother isfj father istj sister istp half sister esfj grand mother mother side enfp step brother esfp step father esfp interesting explains types close minded arrogant intjs leader follow jobs intuitive part brave world mm probably intp familiar type'"
            ]
          },
          "execution_count": 9,
          "metadata": {},
          "output_type": "execute_result"
        }
      ],
      "source": [
        "# After cleaning\n",
        "' '.join(training_data.loc[5, \"cleaned_post\"])"
      ]
    },
    {
      "cell_type": "code",
      "execution_count": null,
      "metadata": {
        "id": "C-7yfYWexoKr"
      },
      "outputs": [],
      "source": [
        "# Extract the labels and posts and store into List\n",
        "\n",
        "# Get the lists of data (posts)\n",
        "training_posts=training_data['cleaned_post'].tolist()\n",
        "testing_posts=testing_data['cleaned_post'].tolist()\n",
        "\n",
        "# Get the list of corresponding labels for the data (posts)\n",
        "training_labels=training_data['type'].tolist()\n",
        "testing_labels=testing_data['type'].tolist()"
      ]
    },
    {
      "cell_type": "code",
      "execution_count": null,
      "metadata": {
        "id": "8caCFSxHO4Yj"
      },
      "outputs": [],
      "source": [
        "# Change 16 Types into 2 Types e.g. INTJ -> T, INFJ -> F\n",
        "def convert_class(label_list):\n",
        "  for i in range(len(label_list)):\n",
        "    if \"T\" in label_list[i]:\n",
        "      label_list[i] = \"T\"\n",
        "    elif \"F\" in label_list[i]:\n",
        "      label_list[i] = \"F\"\n",
        "  return label_list\n",
        "\n",
        "training_labels = convert_class(training_labels)\n",
        "testing_labels = convert_class(testing_labels)"
      ]
    },
    {
      "cell_type": "code",
      "execution_count": null,
      "metadata": {
        "id": "w1wYHOfGNYCt"
      },
      "outputs": [],
      "source": [
        ""
      ]
    },
    {
      "cell_type": "markdown",
      "metadata": {
        "id": "6sAZNIg5927R"
      },
      "source": [
        "# 2 - Input Representation\n"
      ]
    },
    {
      "cell_type": "markdown",
      "metadata": {
        "id": "daDvAftceIvr"
      },
      "source": [
        "## 2.1. Word Embedding Construction"
      ]
    },
    {
      "cell_type": "code",
      "execution_count": null,
      "metadata": {
        "id": "Jw8I1QBk-EhG"
      },
      "outputs": [],
      "source": [
        "from gensim.models import Word2Vec\n",
        "from gensim.models import FastText\n",
        "\n",
        "# Build best training model and parameters for word embeddings\n",
        "word_emb_model = FastText(sentences=training_posts, size=100, window=5, min_count=5, workers=2, sg=1)"
      ]
    },
    {
      "cell_type": "markdown",
      "metadata": {
        "id": "LNys5HOdISK-"
      },
      "source": [
        "## 2.2. Pretrained Word Embedding\n"
      ]
    },
    {
      "cell_type": "code",
      "execution_count": null,
      "metadata": {
        "colab": {
          "base_uri": "https://localhost:8080/"
        },
        "id": "dkwCMJZUCC-m",
        "outputId": "c72c2dbe-14b3-4e4a-d0d9-ff5dfecbb96d"
      },
      "outputs": [
        {
          "output_type": "stream",
          "name": "stdout",
          "text": [
            "[==================================================] 100.0% 387.1/387.1MB downloaded\n"
          ]
        }
      ],
      "source": [
        "# Download the best Pre-trained Embedding\n",
        "import gensim.downloader as api\n",
        "word_emb_model2 = api.load(\"glove-twitter-100\")"
      ]
    },
    {
      "cell_type": "markdown",
      "metadata": {
        "id": "T0ap96aeGlIk"
      },
      "source": [
        "## 2.3. Input Concatenation"
      ]
    },
    {
      "cell_type": "code",
      "source": [
        "# Use the two trained embeddings and concatenate them in the lookup table\n",
        "# Then use the concatenated embeddings to represent each word in the sentence.\n",
        "\n",
        "# Get the vocabulary list from the training data for creating the lookup table later\n",
        "word_set = set() \n",
        "for sent in training_posts:\n",
        "    for word in sent:\n",
        "        word_set.add(word)\n",
        "word_set.add('[PAD]')\n",
        "word_set.add('[UNKNOWN]')\n",
        "\n",
        "word_list = list(word_set) \n",
        "word_list.sort()\n",
        "\n",
        "# Creating the word index set\n",
        "word_index = {}\n",
        "ind = 0\n",
        "for word in word_list:\n",
        "    word_index[word] = ind\n",
        "    ind += 1"
      ],
      "metadata": {
        "id": "dB-BJmKpeBHG"
      },
      "execution_count": null,
      "outputs": []
    },
    {
      "cell_type": "code",
      "source": [
        "import numpy as np\n",
        "emb_dim = word_emb_model.vector_size + word_emb_model2.vector_size\n",
        "\n",
        "# Add the second pre-trained word embedding to the Embedding lookup table via concatenation\n",
        "emb_table = []\n",
        "for i, word in enumerate(word_list):\n",
        "    if word in word_emb_model and word in word_emb_model2:\n",
        "      emb_table.append(np.concatenate((word_emb_model[word],word_emb_model2[word]),0))\n",
        "    else:\n",
        "      emb_table.append([0]*emb_dim)\n",
        "emb_table = np.array(emb_table)"
      ],
      "metadata": {
        "id": "JbhcQIFfclhY"
      },
      "execution_count": null,
      "outputs": []
    },
    {
      "cell_type": "code",
      "execution_count": null,
      "metadata": {
        "colab": {
          "base_uri": "https://localhost:8080/"
        },
        "id": "n5ogeodUCKko",
        "outputId": "e29d776b-906f-4a68-daf2-9c07cbaeac4e"
      },
      "outputs": [
        {
          "output_type": "stream",
          "name": "stderr",
          "text": [
            "/usr/local/lib/python3.7/dist-packages/ipykernel_launcher.py:28: DeprecationWarning: Call to deprecated `__contains__` (Method will be removed in 4.0.0, use self.wv.__contains__() instead).\n",
            "/usr/local/lib/python3.7/dist-packages/ipykernel_launcher.py:29: DeprecationWarning: Call to deprecated `__getitem__` (Method will be removed in 4.0.0, use self.wv.__getitem__() instead).\n"
          ]
        }
      ],
      "source": [
        "# Find max sequence length\n",
        "len_list = [len(s) for s in training_posts]\n",
        "seq_length = max(len_list)\n",
        "\n",
        "# Padding and encoding\n",
        "def encode_and_add_padding(sentences, seq_length, word_index):\n",
        "    sent_encoded = []\n",
        "    for sent in sentences:\n",
        "        temp_encoded = [word_index[word] if word in word_index else word_index['[UNKNOWN]'] for word in sent]\n",
        "        if len(temp_encoded) < seq_length:\n",
        "            temp_encoded += [word_index['[PAD]']] * (seq_length - len(temp_encoded))\n",
        "        sent_encoded.append(temp_encoded)\n",
        "    return sent_encoded\n",
        "\n",
        "train_pad_encoded = encode_and_add_padding(training_posts, seq_length, word_index)\n",
        "test_pad_encoded = encode_and_add_padding(testing_posts, seq_length, word_index)\n",
        "\n",
        "# LabelEncoder can help us encode target labels with a value between 0 and n_classes-1.\n",
        "from sklearn.preprocessing import LabelEncoder\n",
        "lEnc = LabelEncoder()\n",
        "# Encode the labels 0=F, 1=T\n",
        "label_train_encoded = lEnc.fit_transform(training_labels)\n",
        "label_test_encoded = lEnc.transform(testing_labels)"
      ]
    },
    {
      "cell_type": "markdown",
      "source": [
        "# 3 - Bi-LSTM Training"
      ],
      "metadata": {
        "id": "gtR2_KbXPLMd"
      }
    },
    {
      "cell_type": "code",
      "execution_count": null,
      "metadata": {
        "id": "xcmXdF_WGy-b"
      },
      "outputs": [],
      "source": [
        "import torch\n",
        "import torch.nn as nn\n",
        "import torch.nn.functional as F\n",
        "import torch.optim as optim\n",
        "from sklearn.metrics import accuracy_score\n",
        "\n",
        "# Define the model\n",
        "class Bi_LSTM_Emb(nn.Module):\n",
        "    def __init__(self):\n",
        "        super(Bi_LSTM_Emb, self).__init__()\n",
        "        self.emb = nn.Embedding(vocab_size, emb_dim)\n",
        "        # Initialize the Embedding layer with the lookup table we created \n",
        "        self.emb.weight.data.copy_(torch.from_numpy(emb_table))\n",
        "        # Make this lookup table untrainable\n",
        "        self.emb.weight.requires_grad = False\n",
        "\n",
        "        self.lstm = nn.LSTM(emb_dim, n_hidden, batch_first =True, bidirectional=True)\n",
        "        self.linear = nn.Linear(n_hidden*2, n_class)\n",
        "\n",
        "    def forward(self, x):\n",
        "        # Get the embeded tensor\n",
        "        x = self.emb(x)        \n",
        "        # we will use the returned h_n of shape (num_layers * num_directions, batch, hidden_size): tensor containing the hidden state for t = seq_len.\n",
        "        lstm_out, (h_n, c_n) = self.lstm(x)\n",
        "        # concat the last hidden state from two direction\n",
        "        hidden_out = torch.cat((h_n[0,:,:],h_n[1,:,:]),1)\n",
        "        z = self.linear(hidden_out)\n",
        "        return z"
      ]
    },
    {
      "cell_type": "code",
      "execution_count": null,
      "metadata": {
        "colab": {
          "base_uri": "https://localhost:8080/"
        },
        "id": "WAVvkJpjcDCM",
        "outputId": "d46f1342-3f7d-44f5-beed-9e55bbffe0f4"
      },
      "outputs": [
        {
          "name": "stdout",
          "output_type": "stream",
          "text": [
            "Epoch: 1, loss: 0.69157, train_acc: 0.56\n",
            "Epoch: 2, loss: 0.64290, train_acc: 0.62\n",
            "Epoch: 3, loss: 0.59776, train_acc: 0.67\n",
            "Epoch: 4, loss: 0.66052, train_acc: 0.56\n",
            "Epoch: 5, loss: 0.65018, train_acc: 0.65\n",
            "Epoch: 6, loss: 0.66304, train_acc: 0.62\n",
            "Epoch: 7, loss: 0.56721, train_acc: 0.71\n",
            "Epoch: 8, loss: 0.53994, train_acc: 0.73\n",
            "Epoch: 9, loss: 0.55724, train_acc: 0.75\n",
            "Epoch: 10, loss: 0.56955, train_acc: 0.76\n",
            "Epoch: 11, loss: 0.49989, train_acc: 0.79\n",
            "Epoch: 12, loss: 0.43205, train_acc: 0.84\n",
            "Epoch: 13, loss: 0.44620, train_acc: 0.80\n",
            "Epoch: 14, loss: 0.41894, train_acc: 0.82\n",
            "Epoch: 15, loss: 0.35122, train_acc: 0.86\n",
            "Finished Training\n"
          ]
        }
      ],
      "source": [
        "device = torch.device(\"cuda\" if torch.cuda.is_available() else \"cpu\")\n",
        "\n",
        "# Creating automatic batches\n",
        "from torch.utils.data import TensorDataset\n",
        "train_data = TensorDataset(torch.from_numpy(np.array(train_pad_encoded)), torch.from_numpy(np.array(label_train_encoded)))\n",
        "\n",
        "from torch.utils.data import DataLoader\n",
        "batch_size = 1500\n",
        "train_loader = DataLoader(dataset=train_data, batch_size=batch_size, shuffle=True) \n",
        "\n",
        "# Setup for the modeling and training\n",
        "vocab_size = len(word_list)\n",
        "unique_labels = np.unique(training_labels)\n",
        "n_class = len(unique_labels)\n",
        "n_hidden = 30\n",
        "\n",
        "# Set hyperparameters\n",
        "learning_rate = 0.01\n",
        "total_epoch = 15\n",
        "\n",
        "# Move the model to GPU\n",
        "model = Bi_LSTM_Emb().to(device)\n",
        "# Loss function and optimizer\n",
        "criterion = nn.CrossEntropyLoss()\n",
        "optimizer = optim.Adam(model.parameters(), lr=learning_rate)\n",
        "\n",
        "# Preparing input\n",
        "\n",
        "for epoch in range(total_epoch):  \n",
        "    for sentence,targets in train_loader:\n",
        "        input_torch = torch.from_numpy(np.array(sentence)).to(device)\n",
        "        target_torch = torch.from_numpy(np.array(targets)).view(-1).to(device)\n",
        "        # Set the flag to training\n",
        "        model.train()\n",
        "        \n",
        "        # forward + backward + optimize\n",
        "        optimizer.zero_grad()\n",
        "        outputs = model(input_torch) \n",
        "        loss = criterion(outputs, target_torch)\n",
        "        loss.backward()\n",
        "        optimizer.step()\n",
        "        \n",
        "        predicted = torch.argmax(outputs, -1)\n",
        "        acc= accuracy_score(predicted.cpu().numpy(),target_torch.cpu().numpy())\n",
        "\n",
        "    print('Epoch: %d, loss: %.5f, train_acc: %.2f' %(epoch + 1, loss.item(), acc))\n",
        "\n",
        "print('Finished Training')"
      ]
    },
    {
      "cell_type": "code",
      "execution_count": null,
      "metadata": {
        "colab": {
          "base_uri": "https://localhost:8080/"
        },
        "id": "rSgdkQwrQvy9",
        "outputId": "71877212-d076-42ba-c483-e7c00114129c"
      },
      "outputs": [
        {
          "name": "stdout",
          "output_type": "stream",
          "text": [
            "              precision    recall  f1-score   support\n",
            "\n",
            "           0       0.86      0.80      0.83       468\n",
            "           1       0.78      0.85      0.81       400\n",
            "\n",
            "    accuracy                           0.82       868\n",
            "   macro avg       0.82      0.82      0.82       868\n",
            "weighted avg       0.82      0.82      0.82       868\n",
            "\n"
          ]
        }
      ],
      "source": [
        "model.eval()\n",
        "\n",
        "input_torch = torch.from_numpy(np.array(test_pad_encoded)).to(device)\n",
        "\n",
        "outputs = model(input_torch) \n",
        "predicted = torch.argmax(outputs, -1)\n",
        "\n",
        "from sklearn.metrics import classification_report\n",
        "print(classification_report(label_test_encoded,predicted.cpu().numpy()))"
      ]
    },
    {
      "cell_type": "markdown",
      "metadata": {
        "id": "eN3BJvH5N8hh"
      },
      "source": [
        "# 4 - Predicting One Example"
      ]
    },
    {
      "cell_type": "code",
      "execution_count": null,
      "metadata": {
        "id": "cXGUcp6hR_Pm"
      },
      "outputs": [],
      "source": [
        "def predict_personality(text):\n",
        "  # Pre-process text\n",
        "  for string in [text]:\n",
        "    # Remove URL/Punctuation\n",
        "    string = re.sub(r'http\\S+', \"\", string)\n",
        "    sentence = re.sub(r\"[^a-z]+\", \" \", string.lower())\n",
        "\n",
        "  # Tokenise text\n",
        "  sentence = word_tokenize(sentence)\n",
        "\n",
        "  # Remove stopwords\n",
        "  sww = sw.words()\n",
        "  sentence = [w for w in sentence if not w in sww]\n",
        "\n",
        "  temp_encoded = [word_index[word] if word in word_index else word_index['[UNKNOWN]'] for word in sentence]\n",
        "  if len(temp_encoded) < seq_length:\n",
        "      temp_encoded += [word_index['[PAD]']] * (seq_length - len(temp_encoded))\n",
        "  text_pad_encoded = temp_encoded\n",
        "\n",
        "  input_torch = torch.from_numpy(np.array([text_pad_encoded])).to(device)\n",
        "\n",
        "  outputs = model(input_torch) \n",
        "  predicted = torch.argmax(outputs, -1)\n",
        "\n",
        "  if predicted.item() == 1:\n",
        "    pred = \"T\"\n",
        "  elif predicted.item() == 0:\n",
        "    pred = \"F\"\n",
        "  result = \"Predicted Personality Type: \" + pred\n",
        "  return result"
      ]
    },
    {
      "cell_type": "markdown",
      "metadata": {
        "id": "62FS2wAqRJeP"
      },
      "source": [
        "## 4.1 Feeling Example"
      ]
    },
    {
      "cell_type": "code",
      "execution_count": null,
      "metadata": {
        "colab": {
          "base_uri": "https://localhost:8080/",
          "height": 126
        },
        "id": "YO1ck3SxPQFt",
        "outputId": "a7bf7772-b490-4352-ab4a-fa0bda8d83f2"
      },
      "outputs": [
        {
          "data": {
            "application/vnd.google.colaboratory.intrinsic+json": {
              "type": "string"
            },
            "text/plain": [
              "\"'As an ENFJ, how ambitious are you? I am fairly ambitious. I have two undergrad degrees; Sociology/Religious Studies & in Education in ESL/Secondary Education. I left about a 3 year gap between both...|||Welcome!  I find that writing my thoughts in free-flow about the situation helps me cope with separating my feelings with the other person. I also remind myself that I will not allow another...|||healthy ways - workout regularly, yoga, talk to my boyfriend/friends. Maintain a regular sleep schedule.  unhealthy - chocolate. more chocolate. Sometimes other unhealthy foods :/|||It is going excellent! Are relationship is building an amazing foundation. We love to express our feelings for each other through poetry (my preference), through drawings & art (his preference). We...|||Hey INFPs - barely post anymore. I just wanted to share that I met my INFP boyfriend on Feb. 4th of this year. We met through a dating app. We have never been more in love - we've both described our...|||It's been six dates and I found myself an INFP [he took the test ... and yes, he is an INFP]. The connection is just so amazing and intense right now, it even scares me.  He told me he has never...|||I am curious what you'd like. Yeah, we ENFJs are unique. Wonder if this has to do with enneagram/love styles.|||I don't have a ton of info. as I have not met this guy in person & only chatted with him yesterday for the first time online. Here's what I do know:  -according to his profile he is looking for...|||Here are some signs:  -they tend to talk faster  -they will have a tougher time filling in gaps in the conversation -sometimes they won't initiate the interaction, get a bit more shy or wait till...|||Dislike my INFP best-friend's sister. We only just met this month. I don't know I felt strangely upset about why I don't like her sister and guilty. The girl is so self-absorbed & does things that...|||Yeah. I hear you there. You just never know that you will fall in love with someone. It does come out of nowhere.|||Well put. I am borrowing this one in the future.|||Here are some ideas: -anything handwritten or created by hand (so original) this can range from poetry, a cleverly created time line of your relationship with photos (in form of a YouTube clip too)...|||I totally relate to what you said there.|||Yes, I am with you. I find it very hard to fall in love. Some people have been known to mistake my friendly, extrovert behaviour as some kind of romantic interest. Must be going out of style to take...|||Thanks for the reply. I agree with what you've said. I would actually like to dump and bail-out on her at this point.|||That is what she said. However, her friend reporting me to HR would not have any affect on me. I don't work there. I am simply an individual who applied for a grant (which is govt money). This money...|||thank you. sane advice.|||Hey, I am working with INFP on a community project. Without going into too many details, a number of people have dropped the ball on her including the Illustrator who was working with her [an INTP]....|||https://www.youtube.com/watch?v=OntHieZofGA    So good. James is also a Youth Worker/Musician... the non-lyrical version of the song is amazing.. any how..|||https://www.youtube.com/watch?v=gXWD1HjWI8M&amp;index=35&amp;list=PL940F90747B3D4A  F3  Throwback to 1995.|||Reminds me of the barista at my local Starbucks. Still checking if he is going to do some more rad art work and what's next in his life. lol|||https://www.youtube.com/watch?v=ZpDQJnI4OhU  Bono is rumoured to be an ENFJ as well :)|||yeah, that's the correct way to put. I felt my post was rather unbalanced. The one male ENFP I know is an excellent photographer & very reliable when it comes to delievering his work. I think it was...|||Yes, that's what I was conveying. Glad it made sense :)|||Really :tongue:  I think about the 2 ENFP friends I have (well one isn't a friend anymore by virtue of the total lack of effort she puts in our friendship). They amass so many friends very quickly....|||Is it me, or do other ENFJs have trouble opening up? I find it takes forever for me to actual talk about myself as a person unless someone asks direct questions - but, who the heck does that? :P|||Mostly jealous of their social acumen. They walk into a room & trump all the efforts of other people (namely ENFJs), through their charisma and larger-than-life personalities.  I find they say alot...|||I agree with what Gilly said - point on.   I find that people simply do not directly ask questions about me. I think it is refreshing for ENFJs to be able to talk about themselves. We value...|||1. A big party that will have mostly acquaintances and strangers. There is alcohol, food, and music, but the point is to mainly talk to others.  I would likely be tired thinking about this event,...|||part in bold - Something tells me that you feel disappointed about this or at least confused that he wanted to stay-in-touch, but chooses not to initiate contact. If he isn't choosing to contact you,...|||Thanks for sharing, Gilly.   Well, I believe in my 30's I started to care less about fitting in and pleasing other people's whims, particularly people who wanted me to change. I also became much...|||I didn't read the link yet. I had a best friend that is a ESTJ. Very controlling and unable to accept new ways of doing things. It was her way or the highway. I also felt she cared too much about...|||Thanks for the reply. I like how you helped me work that out, ENFJ brother.|||Have you tried an I feel statement? Basically, you would explain how you feel without implicating him. So, you could say something like, I feel _______________ (frustrated, rejected, shut down...|||https://www.youtube.com/watch?v=G_KzlvxrEpU|||Norina, yes, good observation. There were other reasons he didn't want to share with me... I often wonder why he would not want to. I typically don't see ESFJs as very private people.   Thanks for...|||Couldn't agree more with all that is posted here. Don't over complicate things. Start with FB & then a coffee before moving on to something more. Honestly, if she does not want to talk to you she...|||Yes, during times of frustration I feel the same. Before I reach out to someone I ask myself, if they aren't there for me when I need them will I be ok with helping them now?. This help me put...|||Question for my ENFJ brothers and sisters...  how do you get over a breakup especially with someone you still have great memories with and truly loved? I still my ex ESFJ boyfriend and it is been...|||I would not worry at all. He also told you not to worry - trust him! The thing is he knows to know she needs to own her feelings and that he isn't responsible for them. It is important that you...|||When I look back on when I met the ESFJ I once dated, he was immediately affectionate with me. Reached for my hand, kissed me - very obvious. When we spoke he listened to me intently & asked me some...|||<--- new picture of me. By new it is a year old, but I haven't changed in years...|||Just watched the trailer. I cannot decide from the ity-bity-clip if he's an ENFJ. Looks like an awesome movie!!|||Mr Selfridge (my newest love) Fresh Prince of Bel - Air Star Trek the Next Generation (thanks to my INFP sister) Breaking Bad (whole season is fantastic) Top Chef  I don't have a lot of time to...|||It's been a while ENFJs :)   I am curious to know how your views on relationships (romantic, familial, friendships, colleagues) has changed over the course of your life. A broad question that can...|||Not as popular as ENFPs though. I find that if their is an ENFP in the room they will outshine us. People just gravitate towards them!   I think if we need to take care of the needs of the group,...|||It used to bother me in the past, but knowing that I dislike (not hate, I cannot say I hate anyone) some people, I am comfortable knowing that others would also dislike me. I used to have a sense of...|||Great question.   -I had a little school on the block. I would make worksheets, buy all kinds of supplies for my stickers, & fix the boo-boos of the little kids. Is it surprising that I am a...|||Normally I do not like beards on men. However, when it comes to Mr. Selfridge I'd make an exception. It looks really sexy. Well groomed and suits him well. My ex also looked very hot with a beard :)...'\""
            ]
          },
          "execution_count": 51,
          "metadata": {},
          "output_type": "execute_result"
        }
      ],
      "source": [
        "testing_data.loc[7810, \"posts\"]"
      ]
    },
    {
      "cell_type": "code",
      "execution_count": null,
      "metadata": {
        "colab": {
          "base_uri": "https://localhost:8080/",
          "height": 35
        },
        "id": "dBf3Nv9HNnMd",
        "outputId": "11c50e9d-e482-461a-f6fd-4d6fe7859c36"
      },
      "outputs": [
        {
          "data": {
            "application/vnd.google.colaboratory.intrinsic+json": {
              "type": "string"
            },
            "text/plain": [
              "'ENFJ'"
            ]
          },
          "execution_count": 70,
          "metadata": {},
          "output_type": "execute_result"
        }
      ],
      "source": [
        "testing_data.loc[7810, \"type\"]"
      ]
    },
    {
      "cell_type": "code",
      "execution_count": null,
      "metadata": {
        "colab": {
          "base_uri": "https://localhost:8080/",
          "height": 35
        },
        "id": "nn50CdUbSRlX",
        "outputId": "f4695d42-6424-436e-b56d-7e5e2dc2f182"
      },
      "outputs": [
        {
          "data": {
            "application/vnd.google.colaboratory.intrinsic+json": {
              "type": "string"
            },
            "text/plain": [
              "'Predicted Personality Type: F'"
            ]
          },
          "execution_count": 72,
          "metadata": {},
          "output_type": "execute_result"
        }
      ],
      "source": [
        "predict_personality(testing_data.loc[7810, \"posts\"])"
      ]
    },
    {
      "cell_type": "markdown",
      "metadata": {
        "id": "hvLhmALmRPKK"
      },
      "source": [
        "## 4.2 Thinking Example"
      ]
    },
    {
      "cell_type": "code",
      "execution_count": null,
      "metadata": {
        "colab": {
          "base_uri": "https://localhost:8080/",
          "height": 126
        },
        "id": "Fhv2-mOzRV0v",
        "outputId": "a6d24725-e6fe-4d7a-92ef-d3b6f2a58b71"
      },
      "outputs": [
        {
          "data": {
            "application/vnd.google.colaboratory.intrinsic+json": {
              "type": "string"
            },
            "text/plain": [
              "\"'Only the best video game soundtrack ever   https://www.youtube.com/watch?v=4wEZv3cwoMs|||I too find war a fascinating subject to study and observe, but I'd never join an army because I believe the government abuses their power over you even more if you do. They may pay you slightly more...|||I like to cook. I think it's fun to learn new recipes and change them to my tastes, plus I find that if you put some effort into preparing your food, it appears to taste better. That being said, I do...|||I don't see the point in visiting the grave of a loved one, though I've visited graveyards because it can conjure a pensive mood in regards to death and loss.|||Has anyone really been far even as decided to use even go want to do look more like?|||Your mom.  Something you're likely to find in Africa.|||I can definitely relate to your story. It can be really hard to stay motivated when you feel misunderstood.  First off, drop the medication. It has side effects which will make you feel shittier...|||Stocking shelves for the weekend at a supermarket every friday evening, together with a friend. I was about 16.  Since we came in when everyone was almost at the end of their work day, they didn't...|||rejected commercialized education  INTP|||I think it's utterly ridiculous. In a romantic relationship of any type, both parties should strive to treat eachother as equals.|||stopped reading there|||I tried that sort of thing for a few months, but after 3 of these encounters I decided it gave me little satisfaction and stopped doing it.|||- have murderous thoughts when you see someone using a word wrongly  - cry when someone calls out your flawed logic  - like cats  - attract crazy people who mistake our open-mindedness for...|||>2016 >worrying about politics  You can change how these thieves and liars operate, simply by not playing by their rules. There's no use to crying about elections when you keep partaking in the...|||unlearn everything they crammed into your poor head.|||have some of that next level futuristic stuff (might wanna put some headphones on)   https://www.youtube.com/watch?v=0bB5sudP8LQ  https://www.youtube.com/watch?v=rwobDZOw_po ...|||not sure about these types, but here's what I came up with:  Mother - ESFJ Father - XSTJ Sister - INFJ|||I lean towards instrumental music for the most part, but some nicely selected vocal samples can really bring out the best in a track when used wisely and with moderation. example: ...|||only barely, the lowest audible frequency is about 20Hz|||I'm fond of low frequencies when it comes to sound waves.|||probably not, they seem too slow|||Count me in.|||Probably say yeah sure and never follow through.|||I try to always be respectful towards people, even if I don't like them. When people start to annoy me though, I actively start to break away from them (by reducing my input into conversation to...|||Been putting far to many hours into Unturned. Mainly because it runs on my laptop and I don't have money for a gaming pc and games.|||500666  just thinking about kittens and the purpose of my existence|||I had my first girlfriend at 17 (we just went on 1 date and decided to be together) and I tried the whole dating thing for the first time at 25, in the sense that I was going out with girls and...|||1. Do you do it? I avoid it 2. How often? Only when I'm really hungry and there are no other options 3. Do you enjoy it? No, I don't feel at ease in these situations for many reasons 4. What...|||For the most part quiet and observant, trying to make sense of my classmates' immaturity on many levels. Had no true friends at school, only some people who I hung out with out of boredom. Schoolwork...|||I'd guess about 75yrs, depending on health conditions and accidental contact with stray humans.|||Abracadabra I also have trouble maintaining the habit of doing full yoga routines, but it does work greatly.  As for your statement on INTPs naturally meditating all the time when thinking,...|||OneMind In my opinion, Locke qualifies as an INTP. He most definitely utilizes his intuition a lot and takes things as they come without judging, so ISTJ just doesn't seem right for him.|||Pantheism, yo.|||I'm open to the idea of having kids, but I'm not the kind of person to think it's absolutely necessary to have them just to fit in with society's expectations. If I'm ever having kids, it'll have to...|||appear in people's dreams and spout random fake prophecies so they'll take radical action for no reason|||I would nod at them in an understanding way, maybe offer a puff of my joint if they seemed particularly cool.|||1. What is a good person like to you? Open minded and open hearted. Nurturing and stimulating to people around them. 2. Would you consider yourself to be a good person? Getting there, my mind is...|||This. Secluded places in general attract me. I also enjoy wandering the streets late at night.|||Do I study philosophy? I AM PHILOSOPHY|||I like yoga because it doesn't require anything other than my own body to practice. Other than that I don't have a car so I bike around a lot. Competitive sports aren't really fun to me.|||I dislike organized religion as a rule, but over the past few years I've been exploring spirituality. After learning from multiple religions and philosophies, I'd define myself as a pantheist (the...|||Burial feels are the best feels  https://www.youtube.com/watch?v=amcSJqojXsA  Also, Chopin  https://www.youtube.com/watch?v=MPvS0g2papI|||a trick that usually works for me is being the DJ at said nightclub|||lol jobs.|||exactly|||I always had trouble memorizing stupid stuff like vocabulary. Languages are meant to be learned through immersion and experience, just like most other things. Fuck schools, choose your own learning...|||it's gotten me laid a few times so far without really spending a lot of time on there and they were pretty interesting people too. hell, i might even have found someone on there who i'd consider gf...|||here's some future minimalistic stuff I really like (use headphones pls)   https://www.youtube.com/watch?v=ogpP81XGg-I  https://www.youtube.com/watch?v=GQOI6tZgxns ...|||I don't cry much at all, but the other day I was watching Chaplin's speech in The Great Dictator for some reason and it hit me hard while my shields were down. It's mostly things like that that make...|||I don't cry very often, but I do have a few things that get my mood really low really fast:  1. injustice 2. ignorance 3. witnessing great selfishness 4. being misunderstood 5. being judged in...'\""
            ]
          },
          "execution_count": 59,
          "metadata": {},
          "output_type": "execute_result"
        }
      ],
      "source": [
        "testing_data.loc[7812, \"posts\"]"
      ]
    },
    {
      "cell_type": "code",
      "execution_count": null,
      "metadata": {
        "colab": {
          "base_uri": "https://localhost:8080/",
          "height": 35
        },
        "id": "RFnVk2sRRXbW",
        "outputId": "b164da27-1010-4563-c23e-106a6c223ab4"
      },
      "outputs": [
        {
          "data": {
            "application/vnd.google.colaboratory.intrinsic+json": {
              "type": "string"
            },
            "text/plain": [
              "'INTP'"
            ]
          },
          "execution_count": 58,
          "metadata": {},
          "output_type": "execute_result"
        }
      ],
      "source": [
        "testing_data.loc[7812, \"type\"]"
      ]
    },
    {
      "cell_type": "code",
      "execution_count": null,
      "metadata": {
        "colab": {
          "base_uri": "https://localhost:8080/",
          "height": 35
        },
        "id": "OiD581X4Svtu",
        "outputId": "debca60e-7bae-4f86-e683-46a204549875"
      },
      "outputs": [
        {
          "data": {
            "application/vnd.google.colaboratory.intrinsic+json": {
              "type": "string"
            },
            "text/plain": [
              "'Predicted Personality Type: T'"
            ]
          },
          "execution_count": 75,
          "metadata": {},
          "output_type": "execute_result"
        }
      ],
      "source": [
        "predict_personality(testing_data.loc[7812, \"posts\"])"
      ]
    },
    {
      "cell_type": "markdown",
      "metadata": {
        "id": "T6xE00TASnwC"
      },
      "source": [
        "# 5 - Test with any text"
      ]
    },
    {
      "cell_type": "code",
      "execution_count": null,
      "metadata": {
        "colab": {
          "base_uri": "https://localhost:8080/",
          "height": 35
        },
        "id": "Hd0161N1qnSN",
        "outputId": "ce3cf385-a091-4313-e060-cc01fbc93d79"
      },
      "outputs": [
        {
          "data": {
            "application/vnd.google.colaboratory.intrinsic+json": {
              "type": "string"
            },
            "text/plain": [
              "'Predicted Personality Type: F'"
            ]
          },
          "execution_count": 74,
          "metadata": {},
          "output_type": "execute_result"
        }
      ],
      "source": [
        "#@title Personality Type Prediction\n",
        "text = \"I am an INFJ because I feel everything deeply.\" #@param {type:\"string\"}\n",
        "\n",
        "predict_personality(text)"
      ]
    }
  ],
  "metadata": {
    "colab": {
      "collapsed_sections": [],
      "name": "MBTI_Prediction.ipynb",
      "toc_visible": true,
      "provenance": []
    },
    "kernelspec": {
      "display_name": "Python 3",
      "name": "python3"
    },
    "language_info": {
      "name": "python"
    }
  },
  "nbformat": 4,
  "nbformat_minor": 0
}